{
 "cells": [
  {
   "cell_type": "markdown",
   "id": "4d62f98e",
   "metadata": {
    "papermill": {
     "duration": 0.015545,
     "end_time": "2022-07-06T11:06:51.773464",
     "exception": false,
     "start_time": "2022-07-06T11:06:51.757919",
     "status": "completed"
    },
    "tags": []
   },
   "source": [
    "## Flight Price Prediction EDA and Feature Engineering\n",
    "Data source - Kaggle"
   ]
  },
  {
   "cell_type": "code",
   "execution_count": 1,
   "id": "1ccdb56d",
   "metadata": {
    "execution": {
     "iopub.execute_input": "2022-07-06T11:06:51.802767Z",
     "iopub.status.busy": "2022-07-06T11:06:51.802256Z",
     "iopub.status.idle": "2022-07-06T11:06:52.935790Z",
     "shell.execute_reply": "2022-07-06T11:06:52.934590Z"
    },
    "papermill": {
     "duration": 1.151232,
     "end_time": "2022-07-06T11:06:52.938751",
     "exception": false,
     "start_time": "2022-07-06T11:06:51.787519",
     "status": "completed"
    },
    "tags": []
   },
   "outputs": [],
   "source": [
    "# Importing required libraries\n",
    "import numpy as np\n",
    "import pandas as pd\n",
    "import matplotlib.pyplot as plt\n",
    "import seaborn as sns\n"
   ]
  },
  {
   "cell_type": "code",
   "execution_count": 2,
   "id": "ce961be8",
   "metadata": {
    "execution": {
     "iopub.execute_input": "2022-07-06T11:06:52.968689Z",
     "iopub.status.busy": "2022-07-06T11:06:52.968263Z",
     "iopub.status.idle": "2022-07-06T11:07:08.564711Z",
     "shell.execute_reply": "2022-07-06T11:07:08.562584Z"
    },
    "papermill": {
     "duration": 15.614788,
     "end_time": "2022-07-06T11:07:08.567432",
     "exception": false,
     "start_time": "2022-07-06T11:06:52.952644",
     "status": "completed"
    },
    "tags": []
   },
   "outputs": [
    {
     "name": "stdout",
     "output_type": "stream",
     "text": [
      "Collecting openpyxl\r\n",
      "  Downloading openpyxl-3.0.10-py2.py3-none-any.whl (242 kB)\r\n",
      "\u001b[2K     \u001b[90m━━━━━━━━━━━━━━━━━━━━━━━━━━━━━━━━━━━━━\u001b[0m \u001b[32m242.1/242.1 kB\u001b[0m \u001b[31m512.1 kB/s\u001b[0m eta \u001b[36m0:00:00\u001b[0m\r\n",
      "\u001b[?25hCollecting et-xmlfile\r\n",
      "  Downloading et_xmlfile-1.1.0-py3-none-any.whl (4.7 kB)\r\n",
      "Installing collected packages: et-xmlfile, openpyxl\r\n",
      "Successfully installed et-xmlfile-1.1.0 openpyxl-3.0.10\r\n",
      "\u001b[33mWARNING: Running pip as the 'root' user can result in broken permissions and conflicting behaviour with the system package manager. It is recommended to use a virtual environment instead: https://pip.pypa.io/warnings/venv\u001b[0m\u001b[33m\r\n",
      "\u001b[0mNote: you may need to restart the kernel to use updated packages.\n"
     ]
    }
   ],
   "source": [
    "pip install openpyxl"
   ]
  },
  {
   "cell_type": "code",
   "execution_count": 3,
   "id": "365c970e",
   "metadata": {
    "execution": {
     "iopub.execute_input": "2022-07-06T11:07:08.600551Z",
     "iopub.status.busy": "2022-07-06T11:07:08.600113Z",
     "iopub.status.idle": "2022-07-06T11:07:11.191945Z",
     "shell.execute_reply": "2022-07-06T11:07:11.190628Z"
    },
    "papermill": {
     "duration": 2.611763,
     "end_time": "2022-07-06T11:07:11.194418",
     "exception": false,
     "start_time": "2022-07-06T11:07:08.582655",
     "status": "completed"
    },
    "tags": []
   },
   "outputs": [
    {
     "data": {
      "text/html": [
       "<div>\n",
       "<style scoped>\n",
       "    .dataframe tbody tr th:only-of-type {\n",
       "        vertical-align: middle;\n",
       "    }\n",
       "\n",
       "    .dataframe tbody tr th {\n",
       "        vertical-align: top;\n",
       "    }\n",
       "\n",
       "    .dataframe thead th {\n",
       "        text-align: right;\n",
       "    }\n",
       "</style>\n",
       "<table border=\"1\" class=\"dataframe\">\n",
       "  <thead>\n",
       "    <tr style=\"text-align: right;\">\n",
       "      <th></th>\n",
       "      <th>Airline</th>\n",
       "      <th>Date_of_Journey</th>\n",
       "      <th>Source</th>\n",
       "      <th>Destination</th>\n",
       "      <th>Route</th>\n",
       "      <th>Dep_Time</th>\n",
       "      <th>Arrival_Time</th>\n",
       "      <th>Duration</th>\n",
       "      <th>Total_Stops</th>\n",
       "      <th>Additional_Info</th>\n",
       "      <th>Price</th>\n",
       "    </tr>\n",
       "  </thead>\n",
       "  <tbody>\n",
       "    <tr>\n",
       "      <th>0</th>\n",
       "      <td>IndiGo</td>\n",
       "      <td>24/03/2019</td>\n",
       "      <td>Banglore</td>\n",
       "      <td>New Delhi</td>\n",
       "      <td>BLR → DEL</td>\n",
       "      <td>22:20</td>\n",
       "      <td>01:10 22 Mar</td>\n",
       "      <td>2h 50m</td>\n",
       "      <td>non-stop</td>\n",
       "      <td>No info</td>\n",
       "      <td>3897</td>\n",
       "    </tr>\n",
       "    <tr>\n",
       "      <th>1</th>\n",
       "      <td>Air India</td>\n",
       "      <td>1/05/2019</td>\n",
       "      <td>Kolkata</td>\n",
       "      <td>Banglore</td>\n",
       "      <td>CCU → IXR → BBI → BLR</td>\n",
       "      <td>05:50</td>\n",
       "      <td>13:15</td>\n",
       "      <td>7h 25m</td>\n",
       "      <td>2 stops</td>\n",
       "      <td>No info</td>\n",
       "      <td>7662</td>\n",
       "    </tr>\n",
       "    <tr>\n",
       "      <th>2</th>\n",
       "      <td>Jet Airways</td>\n",
       "      <td>9/06/2019</td>\n",
       "      <td>Delhi</td>\n",
       "      <td>Cochin</td>\n",
       "      <td>DEL → LKO → BOM → COK</td>\n",
       "      <td>09:25</td>\n",
       "      <td>04:25 10 Jun</td>\n",
       "      <td>19h</td>\n",
       "      <td>2 stops</td>\n",
       "      <td>No info</td>\n",
       "      <td>13882</td>\n",
       "    </tr>\n",
       "    <tr>\n",
       "      <th>3</th>\n",
       "      <td>IndiGo</td>\n",
       "      <td>12/05/2019</td>\n",
       "      <td>Kolkata</td>\n",
       "      <td>Banglore</td>\n",
       "      <td>CCU → NAG → BLR</td>\n",
       "      <td>18:05</td>\n",
       "      <td>23:30</td>\n",
       "      <td>5h 25m</td>\n",
       "      <td>1 stop</td>\n",
       "      <td>No info</td>\n",
       "      <td>6218</td>\n",
       "    </tr>\n",
       "    <tr>\n",
       "      <th>4</th>\n",
       "      <td>IndiGo</td>\n",
       "      <td>01/03/2019</td>\n",
       "      <td>Banglore</td>\n",
       "      <td>New Delhi</td>\n",
       "      <td>BLR → NAG → DEL</td>\n",
       "      <td>16:50</td>\n",
       "      <td>21:35</td>\n",
       "      <td>4h 45m</td>\n",
       "      <td>1 stop</td>\n",
       "      <td>No info</td>\n",
       "      <td>13302</td>\n",
       "    </tr>\n",
       "    <tr>\n",
       "      <th>...</th>\n",
       "      <td>...</td>\n",
       "      <td>...</td>\n",
       "      <td>...</td>\n",
       "      <td>...</td>\n",
       "      <td>...</td>\n",
       "      <td>...</td>\n",
       "      <td>...</td>\n",
       "      <td>...</td>\n",
       "      <td>...</td>\n",
       "      <td>...</td>\n",
       "      <td>...</td>\n",
       "    </tr>\n",
       "    <tr>\n",
       "      <th>10678</th>\n",
       "      <td>Air Asia</td>\n",
       "      <td>9/04/2019</td>\n",
       "      <td>Kolkata</td>\n",
       "      <td>Banglore</td>\n",
       "      <td>CCU → BLR</td>\n",
       "      <td>19:55</td>\n",
       "      <td>22:25</td>\n",
       "      <td>2h 30m</td>\n",
       "      <td>non-stop</td>\n",
       "      <td>No info</td>\n",
       "      <td>4107</td>\n",
       "    </tr>\n",
       "    <tr>\n",
       "      <th>10679</th>\n",
       "      <td>Air India</td>\n",
       "      <td>27/04/2019</td>\n",
       "      <td>Kolkata</td>\n",
       "      <td>Banglore</td>\n",
       "      <td>CCU → BLR</td>\n",
       "      <td>20:45</td>\n",
       "      <td>23:20</td>\n",
       "      <td>2h 35m</td>\n",
       "      <td>non-stop</td>\n",
       "      <td>No info</td>\n",
       "      <td>4145</td>\n",
       "    </tr>\n",
       "    <tr>\n",
       "      <th>10680</th>\n",
       "      <td>Jet Airways</td>\n",
       "      <td>27/04/2019</td>\n",
       "      <td>Banglore</td>\n",
       "      <td>Delhi</td>\n",
       "      <td>BLR → DEL</td>\n",
       "      <td>08:20</td>\n",
       "      <td>11:20</td>\n",
       "      <td>3h</td>\n",
       "      <td>non-stop</td>\n",
       "      <td>No info</td>\n",
       "      <td>7229</td>\n",
       "    </tr>\n",
       "    <tr>\n",
       "      <th>10681</th>\n",
       "      <td>Vistara</td>\n",
       "      <td>01/03/2019</td>\n",
       "      <td>Banglore</td>\n",
       "      <td>New Delhi</td>\n",
       "      <td>BLR → DEL</td>\n",
       "      <td>11:30</td>\n",
       "      <td>14:10</td>\n",
       "      <td>2h 40m</td>\n",
       "      <td>non-stop</td>\n",
       "      <td>No info</td>\n",
       "      <td>12648</td>\n",
       "    </tr>\n",
       "    <tr>\n",
       "      <th>10682</th>\n",
       "      <td>Air India</td>\n",
       "      <td>9/05/2019</td>\n",
       "      <td>Delhi</td>\n",
       "      <td>Cochin</td>\n",
       "      <td>DEL → GOI → BOM → COK</td>\n",
       "      <td>10:55</td>\n",
       "      <td>19:15</td>\n",
       "      <td>8h 20m</td>\n",
       "      <td>2 stops</td>\n",
       "      <td>No info</td>\n",
       "      <td>11753</td>\n",
       "    </tr>\n",
       "  </tbody>\n",
       "</table>\n",
       "<p>10683 rows × 11 columns</p>\n",
       "</div>"
      ],
      "text/plain": [
       "           Airline Date_of_Journey    Source Destination  \\\n",
       "0           IndiGo      24/03/2019  Banglore   New Delhi   \n",
       "1        Air India       1/05/2019   Kolkata    Banglore   \n",
       "2      Jet Airways       9/06/2019     Delhi      Cochin   \n",
       "3           IndiGo      12/05/2019   Kolkata    Banglore   \n",
       "4           IndiGo      01/03/2019  Banglore   New Delhi   \n",
       "...            ...             ...       ...         ...   \n",
       "10678     Air Asia       9/04/2019   Kolkata    Banglore   \n",
       "10679    Air India      27/04/2019   Kolkata    Banglore   \n",
       "10680  Jet Airways      27/04/2019  Banglore       Delhi   \n",
       "10681      Vistara      01/03/2019  Banglore   New Delhi   \n",
       "10682    Air India       9/05/2019     Delhi      Cochin   \n",
       "\n",
       "                       Route Dep_Time  Arrival_Time Duration Total_Stops  \\\n",
       "0                  BLR → DEL    22:20  01:10 22 Mar   2h 50m    non-stop   \n",
       "1      CCU → IXR → BBI → BLR    05:50         13:15   7h 25m     2 stops   \n",
       "2      DEL → LKO → BOM → COK    09:25  04:25 10 Jun      19h     2 stops   \n",
       "3            CCU → NAG → BLR    18:05         23:30   5h 25m      1 stop   \n",
       "4            BLR → NAG → DEL    16:50         21:35   4h 45m      1 stop   \n",
       "...                      ...      ...           ...      ...         ...   \n",
       "10678              CCU → BLR    19:55         22:25   2h 30m    non-stop   \n",
       "10679              CCU → BLR    20:45         23:20   2h 35m    non-stop   \n",
       "10680              BLR → DEL    08:20         11:20       3h    non-stop   \n",
       "10681              BLR → DEL    11:30         14:10   2h 40m    non-stop   \n",
       "10682  DEL → GOI → BOM → COK    10:55         19:15   8h 20m     2 stops   \n",
       "\n",
       "      Additional_Info  Price  \n",
       "0             No info   3897  \n",
       "1             No info   7662  \n",
       "2             No info  13882  \n",
       "3             No info   6218  \n",
       "4             No info  13302  \n",
       "...               ...    ...  \n",
       "10678         No info   4107  \n",
       "10679         No info   4145  \n",
       "10680         No info   7229  \n",
       "10681         No info  12648  \n",
       "10682         No info  11753  \n",
       "\n",
       "[10683 rows x 11 columns]"
      ]
     },
     "execution_count": 3,
     "metadata": {},
     "output_type": "execute_result"
    }
   ],
   "source": [
    "# Reading the test dataset in Excel format\n",
    "df1 = pd.read_excel('../input/flight-price/Data_Train.xlsx')\n",
    "df1"
   ]
  },
  {
   "cell_type": "code",
   "execution_count": 4,
   "id": "2f7d169c",
   "metadata": {
    "execution": {
     "iopub.execute_input": "2022-07-06T11:07:11.227460Z",
     "iopub.status.busy": "2022-07-06T11:07:11.226853Z",
     "iopub.status.idle": "2022-07-06T11:07:11.780578Z",
     "shell.execute_reply": "2022-07-06T11:07:11.779140Z"
    },
    "papermill": {
     "duration": 0.572953,
     "end_time": "2022-07-06T11:07:11.783050",
     "exception": false,
     "start_time": "2022-07-06T11:07:11.210097",
     "status": "completed"
    },
    "tags": []
   },
   "outputs": [
    {
     "data": {
      "text/html": [
       "<div>\n",
       "<style scoped>\n",
       "    .dataframe tbody tr th:only-of-type {\n",
       "        vertical-align: middle;\n",
       "    }\n",
       "\n",
       "    .dataframe tbody tr th {\n",
       "        vertical-align: top;\n",
       "    }\n",
       "\n",
       "    .dataframe thead th {\n",
       "        text-align: right;\n",
       "    }\n",
       "</style>\n",
       "<table border=\"1\" class=\"dataframe\">\n",
       "  <thead>\n",
       "    <tr style=\"text-align: right;\">\n",
       "      <th></th>\n",
       "      <th>Airline</th>\n",
       "      <th>Date_of_Journey</th>\n",
       "      <th>Source</th>\n",
       "      <th>Destination</th>\n",
       "      <th>Route</th>\n",
       "      <th>Dep_Time</th>\n",
       "      <th>Arrival_Time</th>\n",
       "      <th>Duration</th>\n",
       "      <th>Total_Stops</th>\n",
       "      <th>Additional_Info</th>\n",
       "    </tr>\n",
       "  </thead>\n",
       "  <tbody>\n",
       "    <tr>\n",
       "      <th>0</th>\n",
       "      <td>Jet Airways</td>\n",
       "      <td>6/06/2019</td>\n",
       "      <td>Delhi</td>\n",
       "      <td>Cochin</td>\n",
       "      <td>DEL → BOM → COK</td>\n",
       "      <td>17:30</td>\n",
       "      <td>04:25 07 Jun</td>\n",
       "      <td>10h 55m</td>\n",
       "      <td>1 stop</td>\n",
       "      <td>No info</td>\n",
       "    </tr>\n",
       "    <tr>\n",
       "      <th>1</th>\n",
       "      <td>IndiGo</td>\n",
       "      <td>12/05/2019</td>\n",
       "      <td>Kolkata</td>\n",
       "      <td>Banglore</td>\n",
       "      <td>CCU → MAA → BLR</td>\n",
       "      <td>06:20</td>\n",
       "      <td>10:20</td>\n",
       "      <td>4h</td>\n",
       "      <td>1 stop</td>\n",
       "      <td>No info</td>\n",
       "    </tr>\n",
       "    <tr>\n",
       "      <th>2</th>\n",
       "      <td>Jet Airways</td>\n",
       "      <td>21/05/2019</td>\n",
       "      <td>Delhi</td>\n",
       "      <td>Cochin</td>\n",
       "      <td>DEL → BOM → COK</td>\n",
       "      <td>19:15</td>\n",
       "      <td>19:00 22 May</td>\n",
       "      <td>23h 45m</td>\n",
       "      <td>1 stop</td>\n",
       "      <td>In-flight meal not included</td>\n",
       "    </tr>\n",
       "    <tr>\n",
       "      <th>3</th>\n",
       "      <td>Multiple carriers</td>\n",
       "      <td>21/05/2019</td>\n",
       "      <td>Delhi</td>\n",
       "      <td>Cochin</td>\n",
       "      <td>DEL → BOM → COK</td>\n",
       "      <td>08:00</td>\n",
       "      <td>21:00</td>\n",
       "      <td>13h</td>\n",
       "      <td>1 stop</td>\n",
       "      <td>No info</td>\n",
       "    </tr>\n",
       "    <tr>\n",
       "      <th>4</th>\n",
       "      <td>Air Asia</td>\n",
       "      <td>24/06/2019</td>\n",
       "      <td>Banglore</td>\n",
       "      <td>Delhi</td>\n",
       "      <td>BLR → DEL</td>\n",
       "      <td>23:55</td>\n",
       "      <td>02:45 25 Jun</td>\n",
       "      <td>2h 50m</td>\n",
       "      <td>non-stop</td>\n",
       "      <td>No info</td>\n",
       "    </tr>\n",
       "    <tr>\n",
       "      <th>...</th>\n",
       "      <td>...</td>\n",
       "      <td>...</td>\n",
       "      <td>...</td>\n",
       "      <td>...</td>\n",
       "      <td>...</td>\n",
       "      <td>...</td>\n",
       "      <td>...</td>\n",
       "      <td>...</td>\n",
       "      <td>...</td>\n",
       "      <td>...</td>\n",
       "    </tr>\n",
       "    <tr>\n",
       "      <th>2666</th>\n",
       "      <td>Air India</td>\n",
       "      <td>6/06/2019</td>\n",
       "      <td>Kolkata</td>\n",
       "      <td>Banglore</td>\n",
       "      <td>CCU → DEL → BLR</td>\n",
       "      <td>20:30</td>\n",
       "      <td>20:25 07 Jun</td>\n",
       "      <td>23h 55m</td>\n",
       "      <td>1 stop</td>\n",
       "      <td>No info</td>\n",
       "    </tr>\n",
       "    <tr>\n",
       "      <th>2667</th>\n",
       "      <td>IndiGo</td>\n",
       "      <td>27/03/2019</td>\n",
       "      <td>Kolkata</td>\n",
       "      <td>Banglore</td>\n",
       "      <td>CCU → BLR</td>\n",
       "      <td>14:20</td>\n",
       "      <td>16:55</td>\n",
       "      <td>2h 35m</td>\n",
       "      <td>non-stop</td>\n",
       "      <td>No info</td>\n",
       "    </tr>\n",
       "    <tr>\n",
       "      <th>2668</th>\n",
       "      <td>Jet Airways</td>\n",
       "      <td>6/03/2019</td>\n",
       "      <td>Delhi</td>\n",
       "      <td>Cochin</td>\n",
       "      <td>DEL → BOM → COK</td>\n",
       "      <td>21:50</td>\n",
       "      <td>04:25 07 Mar</td>\n",
       "      <td>6h 35m</td>\n",
       "      <td>1 stop</td>\n",
       "      <td>No info</td>\n",
       "    </tr>\n",
       "    <tr>\n",
       "      <th>2669</th>\n",
       "      <td>Air India</td>\n",
       "      <td>6/03/2019</td>\n",
       "      <td>Delhi</td>\n",
       "      <td>Cochin</td>\n",
       "      <td>DEL → BOM → COK</td>\n",
       "      <td>04:00</td>\n",
       "      <td>19:15</td>\n",
       "      <td>15h 15m</td>\n",
       "      <td>1 stop</td>\n",
       "      <td>No info</td>\n",
       "    </tr>\n",
       "    <tr>\n",
       "      <th>2670</th>\n",
       "      <td>Multiple carriers</td>\n",
       "      <td>15/06/2019</td>\n",
       "      <td>Delhi</td>\n",
       "      <td>Cochin</td>\n",
       "      <td>DEL → BOM → COK</td>\n",
       "      <td>04:55</td>\n",
       "      <td>19:15</td>\n",
       "      <td>14h 20m</td>\n",
       "      <td>1 stop</td>\n",
       "      <td>No info</td>\n",
       "    </tr>\n",
       "  </tbody>\n",
       "</table>\n",
       "<p>2671 rows × 10 columns</p>\n",
       "</div>"
      ],
      "text/plain": [
       "                Airline Date_of_Journey    Source Destination  \\\n",
       "0           Jet Airways       6/06/2019     Delhi      Cochin   \n",
       "1                IndiGo      12/05/2019   Kolkata    Banglore   \n",
       "2           Jet Airways      21/05/2019     Delhi      Cochin   \n",
       "3     Multiple carriers      21/05/2019     Delhi      Cochin   \n",
       "4              Air Asia      24/06/2019  Banglore       Delhi   \n",
       "...                 ...             ...       ...         ...   \n",
       "2666          Air India       6/06/2019   Kolkata    Banglore   \n",
       "2667             IndiGo      27/03/2019   Kolkata    Banglore   \n",
       "2668        Jet Airways       6/03/2019     Delhi      Cochin   \n",
       "2669          Air India       6/03/2019     Delhi      Cochin   \n",
       "2670  Multiple carriers      15/06/2019     Delhi      Cochin   \n",
       "\n",
       "                Route Dep_Time  Arrival_Time Duration Total_Stops  \\\n",
       "0     DEL → BOM → COK    17:30  04:25 07 Jun  10h 55m      1 stop   \n",
       "1     CCU → MAA → BLR    06:20         10:20       4h      1 stop   \n",
       "2     DEL → BOM → COK    19:15  19:00 22 May  23h 45m      1 stop   \n",
       "3     DEL → BOM → COK    08:00         21:00      13h      1 stop   \n",
       "4           BLR → DEL    23:55  02:45 25 Jun   2h 50m    non-stop   \n",
       "...               ...      ...           ...      ...         ...   \n",
       "2666  CCU → DEL → BLR    20:30  20:25 07 Jun  23h 55m      1 stop   \n",
       "2667        CCU → BLR    14:20         16:55   2h 35m    non-stop   \n",
       "2668  DEL → BOM → COK    21:50  04:25 07 Mar   6h 35m      1 stop   \n",
       "2669  DEL → BOM → COK    04:00         19:15  15h 15m      1 stop   \n",
       "2670  DEL → BOM → COK    04:55         19:15  14h 20m      1 stop   \n",
       "\n",
       "                  Additional_Info  \n",
       "0                         No info  \n",
       "1                         No info  \n",
       "2     In-flight meal not included  \n",
       "3                         No info  \n",
       "4                         No info  \n",
       "...                           ...  \n",
       "2666                      No info  \n",
       "2667                      No info  \n",
       "2668                      No info  \n",
       "2669                      No info  \n",
       "2670                      No info  \n",
       "\n",
       "[2671 rows x 10 columns]"
      ]
     },
     "execution_count": 4,
     "metadata": {},
     "output_type": "execute_result"
    }
   ],
   "source": [
    "# Reading the test dataset in Excel format\n",
    "df2 = pd.read_excel('../input/flight-price/Test_set.xlsx')\n",
    "df2"
   ]
  },
  {
   "cell_type": "code",
   "execution_count": 5,
   "id": "40cb80b5",
   "metadata": {
    "execution": {
     "iopub.execute_input": "2022-07-06T11:07:11.817960Z",
     "iopub.status.busy": "2022-07-06T11:07:11.816860Z",
     "iopub.status.idle": "2022-07-06T11:07:11.831614Z",
     "shell.execute_reply": "2022-07-06T11:07:11.830442Z"
    },
    "papermill": {
     "duration": 0.035011,
     "end_time": "2022-07-06T11:07:11.834241",
     "exception": false,
     "start_time": "2022-07-06T11:07:11.799230",
     "status": "completed"
    },
    "tags": []
   },
   "outputs": [
    {
     "data": {
      "text/plain": [
       "(13354, 11)"
      ]
     },
     "execution_count": 5,
     "metadata": {},
     "output_type": "execute_result"
    }
   ],
   "source": [
    "# Concatinating both as a single table.\n",
    "df = pd.concat([df1,df2])\n",
    "df.shape"
   ]
  },
  {
   "cell_type": "code",
   "execution_count": 6,
   "id": "7e3cfcf2",
   "metadata": {
    "execution": {
     "iopub.execute_input": "2022-07-06T11:07:11.867761Z",
     "iopub.status.busy": "2022-07-06T11:07:11.867230Z",
     "iopub.status.idle": "2022-07-06T11:07:11.891973Z",
     "shell.execute_reply": "2022-07-06T11:07:11.890398Z"
    },
    "papermill": {
     "duration": 0.044397,
     "end_time": "2022-07-06T11:07:11.894456",
     "exception": false,
     "start_time": "2022-07-06T11:07:11.850059",
     "status": "completed"
    },
    "tags": []
   },
   "outputs": [
    {
     "data": {
      "text/html": [
       "<div>\n",
       "<style scoped>\n",
       "    .dataframe tbody tr th:only-of-type {\n",
       "        vertical-align: middle;\n",
       "    }\n",
       "\n",
       "    .dataframe tbody tr th {\n",
       "        vertical-align: top;\n",
       "    }\n",
       "\n",
       "    .dataframe thead th {\n",
       "        text-align: right;\n",
       "    }\n",
       "</style>\n",
       "<table border=\"1\" class=\"dataframe\">\n",
       "  <thead>\n",
       "    <tr style=\"text-align: right;\">\n",
       "      <th></th>\n",
       "      <th>Airline</th>\n",
       "      <th>Date_of_Journey</th>\n",
       "      <th>Source</th>\n",
       "      <th>Destination</th>\n",
       "      <th>Route</th>\n",
       "      <th>Dep_Time</th>\n",
       "      <th>Arrival_Time</th>\n",
       "      <th>Duration</th>\n",
       "      <th>Total_Stops</th>\n",
       "      <th>Additional_Info</th>\n",
       "      <th>Price</th>\n",
       "    </tr>\n",
       "  </thead>\n",
       "  <tbody>\n",
       "    <tr>\n",
       "      <th>0</th>\n",
       "      <td>IndiGo</td>\n",
       "      <td>24/03/2019</td>\n",
       "      <td>Banglore</td>\n",
       "      <td>New Delhi</td>\n",
       "      <td>BLR → DEL</td>\n",
       "      <td>22:20</td>\n",
       "      <td>01:10 22 Mar</td>\n",
       "      <td>2h 50m</td>\n",
       "      <td>non-stop</td>\n",
       "      <td>No info</td>\n",
       "      <td>3897.0</td>\n",
       "    </tr>\n",
       "    <tr>\n",
       "      <th>1</th>\n",
       "      <td>Air India</td>\n",
       "      <td>1/05/2019</td>\n",
       "      <td>Kolkata</td>\n",
       "      <td>Banglore</td>\n",
       "      <td>CCU → IXR → BBI → BLR</td>\n",
       "      <td>05:50</td>\n",
       "      <td>13:15</td>\n",
       "      <td>7h 25m</td>\n",
       "      <td>2 stops</td>\n",
       "      <td>No info</td>\n",
       "      <td>7662.0</td>\n",
       "    </tr>\n",
       "    <tr>\n",
       "      <th>2</th>\n",
       "      <td>Jet Airways</td>\n",
       "      <td>9/06/2019</td>\n",
       "      <td>Delhi</td>\n",
       "      <td>Cochin</td>\n",
       "      <td>DEL → LKO → BOM → COK</td>\n",
       "      <td>09:25</td>\n",
       "      <td>04:25 10 Jun</td>\n",
       "      <td>19h</td>\n",
       "      <td>2 stops</td>\n",
       "      <td>No info</td>\n",
       "      <td>13882.0</td>\n",
       "    </tr>\n",
       "    <tr>\n",
       "      <th>3</th>\n",
       "      <td>IndiGo</td>\n",
       "      <td>12/05/2019</td>\n",
       "      <td>Kolkata</td>\n",
       "      <td>Banglore</td>\n",
       "      <td>CCU → NAG → BLR</td>\n",
       "      <td>18:05</td>\n",
       "      <td>23:30</td>\n",
       "      <td>5h 25m</td>\n",
       "      <td>1 stop</td>\n",
       "      <td>No info</td>\n",
       "      <td>6218.0</td>\n",
       "    </tr>\n",
       "    <tr>\n",
       "      <th>4</th>\n",
       "      <td>IndiGo</td>\n",
       "      <td>01/03/2019</td>\n",
       "      <td>Banglore</td>\n",
       "      <td>New Delhi</td>\n",
       "      <td>BLR → NAG → DEL</td>\n",
       "      <td>16:50</td>\n",
       "      <td>21:35</td>\n",
       "      <td>4h 45m</td>\n",
       "      <td>1 stop</td>\n",
       "      <td>No info</td>\n",
       "      <td>13302.0</td>\n",
       "    </tr>\n",
       "    <tr>\n",
       "      <th>...</th>\n",
       "      <td>...</td>\n",
       "      <td>...</td>\n",
       "      <td>...</td>\n",
       "      <td>...</td>\n",
       "      <td>...</td>\n",
       "      <td>...</td>\n",
       "      <td>...</td>\n",
       "      <td>...</td>\n",
       "      <td>...</td>\n",
       "      <td>...</td>\n",
       "      <td>...</td>\n",
       "    </tr>\n",
       "    <tr>\n",
       "      <th>2666</th>\n",
       "      <td>Air India</td>\n",
       "      <td>6/06/2019</td>\n",
       "      <td>Kolkata</td>\n",
       "      <td>Banglore</td>\n",
       "      <td>CCU → DEL → BLR</td>\n",
       "      <td>20:30</td>\n",
       "      <td>20:25 07 Jun</td>\n",
       "      <td>23h 55m</td>\n",
       "      <td>1 stop</td>\n",
       "      <td>No info</td>\n",
       "      <td>NaN</td>\n",
       "    </tr>\n",
       "    <tr>\n",
       "      <th>2667</th>\n",
       "      <td>IndiGo</td>\n",
       "      <td>27/03/2019</td>\n",
       "      <td>Kolkata</td>\n",
       "      <td>Banglore</td>\n",
       "      <td>CCU → BLR</td>\n",
       "      <td>14:20</td>\n",
       "      <td>16:55</td>\n",
       "      <td>2h 35m</td>\n",
       "      <td>non-stop</td>\n",
       "      <td>No info</td>\n",
       "      <td>NaN</td>\n",
       "    </tr>\n",
       "    <tr>\n",
       "      <th>2668</th>\n",
       "      <td>Jet Airways</td>\n",
       "      <td>6/03/2019</td>\n",
       "      <td>Delhi</td>\n",
       "      <td>Cochin</td>\n",
       "      <td>DEL → BOM → COK</td>\n",
       "      <td>21:50</td>\n",
       "      <td>04:25 07 Mar</td>\n",
       "      <td>6h 35m</td>\n",
       "      <td>1 stop</td>\n",
       "      <td>No info</td>\n",
       "      <td>NaN</td>\n",
       "    </tr>\n",
       "    <tr>\n",
       "      <th>2669</th>\n",
       "      <td>Air India</td>\n",
       "      <td>6/03/2019</td>\n",
       "      <td>Delhi</td>\n",
       "      <td>Cochin</td>\n",
       "      <td>DEL → BOM → COK</td>\n",
       "      <td>04:00</td>\n",
       "      <td>19:15</td>\n",
       "      <td>15h 15m</td>\n",
       "      <td>1 stop</td>\n",
       "      <td>No info</td>\n",
       "      <td>NaN</td>\n",
       "    </tr>\n",
       "    <tr>\n",
       "      <th>2670</th>\n",
       "      <td>Multiple carriers</td>\n",
       "      <td>15/06/2019</td>\n",
       "      <td>Delhi</td>\n",
       "      <td>Cochin</td>\n",
       "      <td>DEL → BOM → COK</td>\n",
       "      <td>04:55</td>\n",
       "      <td>19:15</td>\n",
       "      <td>14h 20m</td>\n",
       "      <td>1 stop</td>\n",
       "      <td>No info</td>\n",
       "      <td>NaN</td>\n",
       "    </tr>\n",
       "  </tbody>\n",
       "</table>\n",
       "<p>13354 rows × 11 columns</p>\n",
       "</div>"
      ],
      "text/plain": [
       "                Airline Date_of_Journey    Source Destination  \\\n",
       "0                IndiGo      24/03/2019  Banglore   New Delhi   \n",
       "1             Air India       1/05/2019   Kolkata    Banglore   \n",
       "2           Jet Airways       9/06/2019     Delhi      Cochin   \n",
       "3                IndiGo      12/05/2019   Kolkata    Banglore   \n",
       "4                IndiGo      01/03/2019  Banglore   New Delhi   \n",
       "...                 ...             ...       ...         ...   \n",
       "2666          Air India       6/06/2019   Kolkata    Banglore   \n",
       "2667             IndiGo      27/03/2019   Kolkata    Banglore   \n",
       "2668        Jet Airways       6/03/2019     Delhi      Cochin   \n",
       "2669          Air India       6/03/2019     Delhi      Cochin   \n",
       "2670  Multiple carriers      15/06/2019     Delhi      Cochin   \n",
       "\n",
       "                      Route Dep_Time  Arrival_Time Duration Total_Stops  \\\n",
       "0                 BLR → DEL    22:20  01:10 22 Mar   2h 50m    non-stop   \n",
       "1     CCU → IXR → BBI → BLR    05:50         13:15   7h 25m     2 stops   \n",
       "2     DEL → LKO → BOM → COK    09:25  04:25 10 Jun      19h     2 stops   \n",
       "3           CCU → NAG → BLR    18:05         23:30   5h 25m      1 stop   \n",
       "4           BLR → NAG → DEL    16:50         21:35   4h 45m      1 stop   \n",
       "...                     ...      ...           ...      ...         ...   \n",
       "2666        CCU → DEL → BLR    20:30  20:25 07 Jun  23h 55m      1 stop   \n",
       "2667              CCU → BLR    14:20         16:55   2h 35m    non-stop   \n",
       "2668        DEL → BOM → COK    21:50  04:25 07 Mar   6h 35m      1 stop   \n",
       "2669        DEL → BOM → COK    04:00         19:15  15h 15m      1 stop   \n",
       "2670        DEL → BOM → COK    04:55         19:15  14h 20m      1 stop   \n",
       "\n",
       "     Additional_Info    Price  \n",
       "0            No info   3897.0  \n",
       "1            No info   7662.0  \n",
       "2            No info  13882.0  \n",
       "3            No info   6218.0  \n",
       "4            No info  13302.0  \n",
       "...              ...      ...  \n",
       "2666         No info      NaN  \n",
       "2667         No info      NaN  \n",
       "2668         No info      NaN  \n",
       "2669         No info      NaN  \n",
       "2670         No info      NaN  \n",
       "\n",
       "[13354 rows x 11 columns]"
      ]
     },
     "execution_count": 6,
     "metadata": {},
     "output_type": "execute_result"
    }
   ],
   "source": [
    "#checking the data\n",
    "df"
   ]
  },
  {
   "cell_type": "code",
   "execution_count": 7,
   "id": "ba1cfac8",
   "metadata": {
    "execution": {
     "iopub.execute_input": "2022-07-06T11:07:11.929900Z",
     "iopub.status.busy": "2022-07-06T11:07:11.929463Z",
     "iopub.status.idle": "2022-07-06T11:07:11.963248Z",
     "shell.execute_reply": "2022-07-06T11:07:11.961613Z"
    },
    "papermill": {
     "duration": 0.054398,
     "end_time": "2022-07-06T11:07:11.966034",
     "exception": false,
     "start_time": "2022-07-06T11:07:11.911636",
     "status": "completed"
    },
    "tags": []
   },
   "outputs": [
    {
     "name": "stdout",
     "output_type": "stream",
     "text": [
      "<class 'pandas.core.frame.DataFrame'>\n",
      "Int64Index: 13354 entries, 0 to 2670\n",
      "Data columns (total 11 columns):\n",
      " #   Column           Non-Null Count  Dtype  \n",
      "---  ------           --------------  -----  \n",
      " 0   Airline          13354 non-null  object \n",
      " 1   Date_of_Journey  13354 non-null  object \n",
      " 2   Source           13354 non-null  object \n",
      " 3   Destination      13354 non-null  object \n",
      " 4   Route            13353 non-null  object \n",
      " 5   Dep_Time         13354 non-null  object \n",
      " 6   Arrival_Time     13354 non-null  object \n",
      " 7   Duration         13354 non-null  object \n",
      " 8   Total_Stops      13353 non-null  object \n",
      " 9   Additional_Info  13354 non-null  object \n",
      " 10  Price            10683 non-null  float64\n",
      "dtypes: float64(1), object(10)\n",
      "memory usage: 1.2+ MB\n"
     ]
    }
   ],
   "source": [
    "# Checking its data type\n",
    "df.info()"
   ]
  },
  {
   "cell_type": "code",
   "execution_count": 8,
   "id": "df32dff0",
   "metadata": {
    "execution": {
     "iopub.execute_input": "2022-07-06T11:07:12.002188Z",
     "iopub.status.busy": "2022-07-06T11:07:12.001168Z",
     "iopub.status.idle": "2022-07-06T11:07:12.022798Z",
     "shell.execute_reply": "2022-07-06T11:07:12.021474Z"
    },
    "papermill": {
     "duration": 0.042581,
     "end_time": "2022-07-06T11:07:12.025297",
     "exception": false,
     "start_time": "2022-07-06T11:07:11.982716",
     "status": "completed"
    },
    "tags": []
   },
   "outputs": [
    {
     "data": {
      "text/plain": [
       "Airline               0\n",
       "Date_of_Journey       0\n",
       "Source                0\n",
       "Destination           0\n",
       "Route                 1\n",
       "Dep_Time              0\n",
       "Arrival_Time          0\n",
       "Duration              0\n",
       "Total_Stops           1\n",
       "Additional_Info       0\n",
       "Price              2671\n",
       "dtype: int64"
      ]
     },
     "execution_count": 8,
     "metadata": {},
     "output_type": "execute_result"
    }
   ],
   "source": [
    "# Finding the null values in the dataset\n",
    "df.isnull().sum()"
   ]
  },
  {
   "cell_type": "code",
   "execution_count": 9,
   "id": "f9ca0dcc",
   "metadata": {
    "execution": {
     "iopub.execute_input": "2022-07-06T11:07:12.059949Z",
     "iopub.status.busy": "2022-07-06T11:07:12.059504Z",
     "iopub.status.idle": "2022-07-06T11:07:12.068140Z",
     "shell.execute_reply": "2022-07-06T11:07:12.066938Z"
    },
    "papermill": {
     "duration": 0.028785,
     "end_time": "2022-07-06T11:07:12.070516",
     "exception": false,
     "start_time": "2022-07-06T11:07:12.041731",
     "status": "completed"
    },
    "tags": []
   },
   "outputs": [],
   "source": [
    "#collecting index of null values\n",
    "null_index = df[df['Route'].isnull()].index"
   ]
  },
  {
   "cell_type": "code",
   "execution_count": 10,
   "id": "7b25c3d9",
   "metadata": {
    "execution": {
     "iopub.execute_input": "2022-07-06T11:07:12.106255Z",
     "iopub.status.busy": "2022-07-06T11:07:12.105551Z",
     "iopub.status.idle": "2022-07-06T11:07:12.119801Z",
     "shell.execute_reply": "2022-07-06T11:07:12.118463Z"
    },
    "papermill": {
     "duration": 0.035708,
     "end_time": "2022-07-06T11:07:12.123045",
     "exception": false,
     "start_time": "2022-07-06T11:07:12.087337",
     "status": "completed"
    },
    "tags": []
   },
   "outputs": [],
   "source": [
    "# droping null values\n",
    "df.drop(null_index,inplace=True)"
   ]
  },
  {
   "cell_type": "code",
   "execution_count": 11,
   "id": "8163fdf9",
   "metadata": {
    "execution": {
     "iopub.execute_input": "2022-07-06T11:07:12.158608Z",
     "iopub.status.busy": "2022-07-06T11:07:12.158156Z",
     "iopub.status.idle": "2022-07-06T11:07:12.180629Z",
     "shell.execute_reply": "2022-07-06T11:07:12.179357Z"
    },
    "papermill": {
     "duration": 0.043256,
     "end_time": "2022-07-06T11:07:12.183338",
     "exception": false,
     "start_time": "2022-07-06T11:07:12.140082",
     "status": "completed"
    },
    "tags": []
   },
   "outputs": [
    {
     "data": {
      "text/plain": [
       "Airline               0\n",
       "Date_of_Journey       0\n",
       "Source                0\n",
       "Destination           0\n",
       "Route                 0\n",
       "Dep_Time              0\n",
       "Arrival_Time          0\n",
       "Duration              0\n",
       "Total_Stops           0\n",
       "Additional_Info       0\n",
       "Price              2671\n",
       "dtype: int64"
      ]
     },
     "execution_count": 11,
     "metadata": {},
     "output_type": "execute_result"
    }
   ],
   "source": [
    "#null values removed\n",
    "df.isnull().sum()"
   ]
  },
  {
   "cell_type": "code",
   "execution_count": 12,
   "id": "79ebb6a7",
   "metadata": {
    "execution": {
     "iopub.execute_input": "2022-07-06T11:07:12.219543Z",
     "iopub.status.busy": "2022-07-06T11:07:12.219131Z",
     "iopub.status.idle": "2022-07-06T11:07:12.224130Z",
     "shell.execute_reply": "2022-07-06T11:07:12.222889Z"
    },
    "papermill": {
     "duration": 0.026333,
     "end_time": "2022-07-06T11:07:12.226758",
     "exception": false,
     "start_time": "2022-07-06T11:07:12.200425",
     "status": "completed"
    },
    "tags": []
   },
   "outputs": [],
   "source": [
    "# df['Date'] = df['Date_of_Journey'].str.split('/').str[0]\n",
    "# df['Month'] = df['Date_of_Journey'].str.split('/').str[1]\n",
    "# df['Year'] = df['Date_of_Journey'].str.split('/').str[2]\n"
   ]
  },
  {
   "cell_type": "code",
   "execution_count": 13,
   "id": "b170e744",
   "metadata": {
    "execution": {
     "iopub.execute_input": "2022-07-06T11:07:12.262704Z",
     "iopub.status.busy": "2022-07-06T11:07:12.262252Z",
     "iopub.status.idle": "2022-07-06T11:07:12.267530Z",
     "shell.execute_reply": "2022-07-06T11:07:12.266123Z"
    },
    "papermill": {
     "duration": 0.026746,
     "end_time": "2022-07-06T11:07:12.270185",
     "exception": false,
     "start_time": "2022-07-06T11:07:12.243439",
     "status": "completed"
    },
    "tags": []
   },
   "outputs": [],
   "source": [
    "# df.head()"
   ]
  },
  {
   "cell_type": "code",
   "execution_count": 14,
   "id": "d05c419e",
   "metadata": {
    "execution": {
     "iopub.execute_input": "2022-07-06T11:07:12.305831Z",
     "iopub.status.busy": "2022-07-06T11:07:12.305168Z",
     "iopub.status.idle": "2022-07-06T11:07:12.321460Z",
     "shell.execute_reply": "2022-07-06T11:07:12.320110Z"
    },
    "papermill": {
     "duration": 0.037326,
     "end_time": "2022-07-06T11:07:12.324243",
     "exception": false,
     "start_time": "2022-07-06T11:07:12.286917",
     "status": "completed"
    },
    "tags": []
   },
   "outputs": [],
   "source": [
    "# Changing the data to correct data type date in date format.\n",
    "df['Date_of_Journey'] = pd.to_datetime(df['Date_of_Journey'])\n"
   ]
  },
  {
   "cell_type": "code",
   "execution_count": 15,
   "id": "9a292ed5",
   "metadata": {
    "execution": {
     "iopub.execute_input": "2022-07-06T11:07:12.359304Z",
     "iopub.status.busy": "2022-07-06T11:07:12.358632Z",
     "iopub.status.idle": "2022-07-06T11:07:12.383899Z",
     "shell.execute_reply": "2022-07-06T11:07:12.382372Z"
    },
    "papermill": {
     "duration": 0.046452,
     "end_time": "2022-07-06T11:07:12.387316",
     "exception": false,
     "start_time": "2022-07-06T11:07:12.340864",
     "status": "completed"
    },
    "tags": []
   },
   "outputs": [
    {
     "name": "stdout",
     "output_type": "stream",
     "text": [
      "<class 'pandas.core.frame.DataFrame'>\n",
      "Int64Index: 13353 entries, 0 to 2670\n",
      "Data columns (total 11 columns):\n",
      " #   Column           Non-Null Count  Dtype         \n",
      "---  ------           --------------  -----         \n",
      " 0   Airline          13353 non-null  object        \n",
      " 1   Date_of_Journey  13353 non-null  datetime64[ns]\n",
      " 2   Source           13353 non-null  object        \n",
      " 3   Destination      13353 non-null  object        \n",
      " 4   Route            13353 non-null  object        \n",
      " 5   Dep_Time         13353 non-null  object        \n",
      " 6   Arrival_Time     13353 non-null  object        \n",
      " 7   Duration         13353 non-null  object        \n",
      " 8   Total_Stops      13353 non-null  object        \n",
      " 9   Additional_Info  13353 non-null  object        \n",
      " 10  Price            10682 non-null  float64       \n",
      "dtypes: datetime64[ns](1), float64(1), object(9)\n",
      "memory usage: 1.2+ MB\n"
     ]
    }
   ],
   "source": [
    "# Checking datatype\n",
    "df.info()"
   ]
  },
  {
   "cell_type": "code",
   "execution_count": 16,
   "id": "ec6f7343",
   "metadata": {
    "execution": {
     "iopub.execute_input": "2022-07-06T11:07:12.423241Z",
     "iopub.status.busy": "2022-07-06T11:07:12.422847Z",
     "iopub.status.idle": "2022-07-06T11:07:12.434990Z",
     "shell.execute_reply": "2022-07-06T11:07:12.433815Z"
    },
    "papermill": {
     "duration": 0.032956,
     "end_time": "2022-07-06T11:07:12.437703",
     "exception": false,
     "start_time": "2022-07-06T11:07:12.404747",
     "status": "completed"
    },
    "tags": []
   },
   "outputs": [],
   "source": [
    "# Creating 3 seprate column for year ,month and Day\n",
    "df['Year'] = df['Date_of_Journey'].dt.year\n",
    "df['Month'] = df['Date_of_Journey'].dt.month\n",
    "df['Date'] = df['Date_of_Journey'].dt.day"
   ]
  },
  {
   "cell_type": "code",
   "execution_count": 17,
   "id": "7ae0896a",
   "metadata": {
    "execution": {
     "iopub.execute_input": "2022-07-06T11:07:12.473293Z",
     "iopub.status.busy": "2022-07-06T11:07:12.472590Z",
     "iopub.status.idle": "2022-07-06T11:07:12.494312Z",
     "shell.execute_reply": "2022-07-06T11:07:12.493344Z"
    },
    "papermill": {
     "duration": 0.042173,
     "end_time": "2022-07-06T11:07:12.496488",
     "exception": false,
     "start_time": "2022-07-06T11:07:12.454315",
     "status": "completed"
    },
    "tags": []
   },
   "outputs": [
    {
     "data": {
      "text/html": [
       "<div>\n",
       "<style scoped>\n",
       "    .dataframe tbody tr th:only-of-type {\n",
       "        vertical-align: middle;\n",
       "    }\n",
       "\n",
       "    .dataframe tbody tr th {\n",
       "        vertical-align: top;\n",
       "    }\n",
       "\n",
       "    .dataframe thead th {\n",
       "        text-align: right;\n",
       "    }\n",
       "</style>\n",
       "<table border=\"1\" class=\"dataframe\">\n",
       "  <thead>\n",
       "    <tr style=\"text-align: right;\">\n",
       "      <th></th>\n",
       "      <th>Airline</th>\n",
       "      <th>Date_of_Journey</th>\n",
       "      <th>Source</th>\n",
       "      <th>Destination</th>\n",
       "      <th>Route</th>\n",
       "      <th>Dep_Time</th>\n",
       "      <th>Arrival_Time</th>\n",
       "      <th>Duration</th>\n",
       "      <th>Total_Stops</th>\n",
       "      <th>Additional_Info</th>\n",
       "      <th>Price</th>\n",
       "      <th>Year</th>\n",
       "      <th>Month</th>\n",
       "      <th>Date</th>\n",
       "    </tr>\n",
       "  </thead>\n",
       "  <tbody>\n",
       "    <tr>\n",
       "      <th>0</th>\n",
       "      <td>IndiGo</td>\n",
       "      <td>2019-03-24</td>\n",
       "      <td>Banglore</td>\n",
       "      <td>New Delhi</td>\n",
       "      <td>BLR → DEL</td>\n",
       "      <td>22:20</td>\n",
       "      <td>01:10 22 Mar</td>\n",
       "      <td>2h 50m</td>\n",
       "      <td>non-stop</td>\n",
       "      <td>No info</td>\n",
       "      <td>3897.0</td>\n",
       "      <td>2019</td>\n",
       "      <td>3</td>\n",
       "      <td>24</td>\n",
       "    </tr>\n",
       "    <tr>\n",
       "      <th>1</th>\n",
       "      <td>Air India</td>\n",
       "      <td>2019-01-05</td>\n",
       "      <td>Kolkata</td>\n",
       "      <td>Banglore</td>\n",
       "      <td>CCU → IXR → BBI → BLR</td>\n",
       "      <td>05:50</td>\n",
       "      <td>13:15</td>\n",
       "      <td>7h 25m</td>\n",
       "      <td>2 stops</td>\n",
       "      <td>No info</td>\n",
       "      <td>7662.0</td>\n",
       "      <td>2019</td>\n",
       "      <td>1</td>\n",
       "      <td>5</td>\n",
       "    </tr>\n",
       "    <tr>\n",
       "      <th>2</th>\n",
       "      <td>Jet Airways</td>\n",
       "      <td>2019-09-06</td>\n",
       "      <td>Delhi</td>\n",
       "      <td>Cochin</td>\n",
       "      <td>DEL → LKO → BOM → COK</td>\n",
       "      <td>09:25</td>\n",
       "      <td>04:25 10 Jun</td>\n",
       "      <td>19h</td>\n",
       "      <td>2 stops</td>\n",
       "      <td>No info</td>\n",
       "      <td>13882.0</td>\n",
       "      <td>2019</td>\n",
       "      <td>9</td>\n",
       "      <td>6</td>\n",
       "    </tr>\n",
       "    <tr>\n",
       "      <th>3</th>\n",
       "      <td>IndiGo</td>\n",
       "      <td>2019-12-05</td>\n",
       "      <td>Kolkata</td>\n",
       "      <td>Banglore</td>\n",
       "      <td>CCU → NAG → BLR</td>\n",
       "      <td>18:05</td>\n",
       "      <td>23:30</td>\n",
       "      <td>5h 25m</td>\n",
       "      <td>1 stop</td>\n",
       "      <td>No info</td>\n",
       "      <td>6218.0</td>\n",
       "      <td>2019</td>\n",
       "      <td>12</td>\n",
       "      <td>5</td>\n",
       "    </tr>\n",
       "    <tr>\n",
       "      <th>4</th>\n",
       "      <td>IndiGo</td>\n",
       "      <td>2019-01-03</td>\n",
       "      <td>Banglore</td>\n",
       "      <td>New Delhi</td>\n",
       "      <td>BLR → NAG → DEL</td>\n",
       "      <td>16:50</td>\n",
       "      <td>21:35</td>\n",
       "      <td>4h 45m</td>\n",
       "      <td>1 stop</td>\n",
       "      <td>No info</td>\n",
       "      <td>13302.0</td>\n",
       "      <td>2019</td>\n",
       "      <td>1</td>\n",
       "      <td>3</td>\n",
       "    </tr>\n",
       "  </tbody>\n",
       "</table>\n",
       "</div>"
      ],
      "text/plain": [
       "       Airline Date_of_Journey    Source Destination                  Route  \\\n",
       "0       IndiGo      2019-03-24  Banglore   New Delhi              BLR → DEL   \n",
       "1    Air India      2019-01-05   Kolkata    Banglore  CCU → IXR → BBI → BLR   \n",
       "2  Jet Airways      2019-09-06     Delhi      Cochin  DEL → LKO → BOM → COK   \n",
       "3       IndiGo      2019-12-05   Kolkata    Banglore        CCU → NAG → BLR   \n",
       "4       IndiGo      2019-01-03  Banglore   New Delhi        BLR → NAG → DEL   \n",
       "\n",
       "  Dep_Time  Arrival_Time Duration Total_Stops Additional_Info    Price  Year  \\\n",
       "0    22:20  01:10 22 Mar   2h 50m    non-stop         No info   3897.0  2019   \n",
       "1    05:50         13:15   7h 25m     2 stops         No info   7662.0  2019   \n",
       "2    09:25  04:25 10 Jun      19h     2 stops         No info  13882.0  2019   \n",
       "3    18:05         23:30   5h 25m      1 stop         No info   6218.0  2019   \n",
       "4    16:50         21:35   4h 45m      1 stop         No info  13302.0  2019   \n",
       "\n",
       "   Month  Date  \n",
       "0      3    24  \n",
       "1      1     5  \n",
       "2      9     6  \n",
       "3     12     5  \n",
       "4      1     3  "
      ]
     },
     "execution_count": 17,
     "metadata": {},
     "output_type": "execute_result"
    }
   ],
   "source": [
    "df.head()"
   ]
  },
  {
   "cell_type": "code",
   "execution_count": 18,
   "id": "8c0a325a",
   "metadata": {
    "execution": {
     "iopub.execute_input": "2022-07-06T11:07:12.533541Z",
     "iopub.status.busy": "2022-07-06T11:07:12.532452Z",
     "iopub.status.idle": "2022-07-06T11:07:12.559289Z",
     "shell.execute_reply": "2022-07-06T11:07:12.557464Z"
    },
    "papermill": {
     "duration": 0.049411,
     "end_time": "2022-07-06T11:07:12.563394",
     "exception": false,
     "start_time": "2022-07-06T11:07:12.513983",
     "status": "completed"
    },
    "tags": []
   },
   "outputs": [
    {
     "name": "stdout",
     "output_type": "stream",
     "text": [
      "<class 'pandas.core.frame.DataFrame'>\n",
      "Int64Index: 13353 entries, 0 to 2670\n",
      "Data columns (total 14 columns):\n",
      " #   Column           Non-Null Count  Dtype         \n",
      "---  ------           --------------  -----         \n",
      " 0   Airline          13353 non-null  object        \n",
      " 1   Date_of_Journey  13353 non-null  datetime64[ns]\n",
      " 2   Source           13353 non-null  object        \n",
      " 3   Destination      13353 non-null  object        \n",
      " 4   Route            13353 non-null  object        \n",
      " 5   Dep_Time         13353 non-null  object        \n",
      " 6   Arrival_Time     13353 non-null  object        \n",
      " 7   Duration         13353 non-null  object        \n",
      " 8   Total_Stops      13353 non-null  object        \n",
      " 9   Additional_Info  13353 non-null  object        \n",
      " 10  Price            10682 non-null  float64       \n",
      " 11  Year             13353 non-null  int64         \n",
      " 12  Month            13353 non-null  int64         \n",
      " 13  Date             13353 non-null  int64         \n",
      "dtypes: datetime64[ns](1), float64(1), int64(3), object(9)\n",
      "memory usage: 1.5+ MB\n"
     ]
    }
   ],
   "source": [
    "# Rechecking data types.\n",
    "df.info()"
   ]
  },
  {
   "cell_type": "code",
   "execution_count": 19,
   "id": "67332199",
   "metadata": {
    "execution": {
     "iopub.execute_input": "2022-07-06T11:07:12.600277Z",
     "iopub.status.busy": "2022-07-06T11:07:12.599671Z",
     "iopub.status.idle": "2022-07-06T11:07:12.607111Z",
     "shell.execute_reply": "2022-07-06T11:07:12.606038Z"
    },
    "papermill": {
     "duration": 0.02851,
     "end_time": "2022-07-06T11:07:12.609485",
     "exception": false,
     "start_time": "2022-07-06T11:07:12.580975",
     "status": "completed"
    },
    "tags": []
   },
   "outputs": [],
   "source": [
    "# Previous column is no more required so we drop that column to reduce redundency\n",
    "df.drop('Date_of_Journey', axis=1, inplace=True)"
   ]
  },
  {
   "cell_type": "code",
   "execution_count": 20,
   "id": "0e303e24",
   "metadata": {
    "execution": {
     "iopub.execute_input": "2022-07-06T11:07:12.646201Z",
     "iopub.status.busy": "2022-07-06T11:07:12.644932Z",
     "iopub.status.idle": "2022-07-06T11:07:12.673601Z",
     "shell.execute_reply": "2022-07-06T11:07:12.672624Z"
    },
    "papermill": {
     "duration": 0.049559,
     "end_time": "2022-07-06T11:07:12.676164",
     "exception": false,
     "start_time": "2022-07-06T11:07:12.626605",
     "status": "completed"
    },
    "tags": []
   },
   "outputs": [],
   "source": [
    "# Extracting hour and minutes from arrival time\n",
    "df['Arrival_Time'] = df['Arrival_Time'].str.split(\" \").str[0]"
   ]
  },
  {
   "cell_type": "code",
   "execution_count": 21,
   "id": "46276dfb",
   "metadata": {
    "execution": {
     "iopub.execute_input": "2022-07-06T11:07:12.712773Z",
     "iopub.status.busy": "2022-07-06T11:07:12.712047Z",
     "iopub.status.idle": "2022-07-06T11:07:12.743540Z",
     "shell.execute_reply": "2022-07-06T11:07:12.742576Z"
    },
    "papermill": {
     "duration": 0.052872,
     "end_time": "2022-07-06T11:07:12.746132",
     "exception": false,
     "start_time": "2022-07-06T11:07:12.693260",
     "status": "completed"
    },
    "tags": []
   },
   "outputs": [],
   "source": [
    "# Creating 2 new column for arrival hour and minutes\n",
    "df['Arrival_hour'] = df['Arrival_Time'].str.split(':').str[0]\n",
    "df['Arrival_hour'] = df['Arrival_hour'].astype(int)"
   ]
  },
  {
   "cell_type": "code",
   "execution_count": 22,
   "id": "a3ce5f83",
   "metadata": {
    "execution": {
     "iopub.execute_input": "2022-07-06T11:07:12.783150Z",
     "iopub.status.busy": "2022-07-06T11:07:12.782461Z",
     "iopub.status.idle": "2022-07-06T11:07:12.934538Z",
     "shell.execute_reply": "2022-07-06T11:07:12.933624Z"
    },
    "papermill": {
     "duration": 0.173635,
     "end_time": "2022-07-06T11:07:12.937117",
     "exception": false,
     "start_time": "2022-07-06T11:07:12.763482",
     "status": "completed"
    },
    "tags": []
   },
   "outputs": [],
   "source": [
    "\n",
    "df['Arrival_min'] = df['Arrival_Time'].str.split(':').str[1]\n",
    "df['Arrival_min'] = df['Arrival_min'].astype(int)"
   ]
  },
  {
   "cell_type": "code",
   "execution_count": 23,
   "id": "9718b51a",
   "metadata": {
    "execution": {
     "iopub.execute_input": "2022-07-06T11:07:12.974674Z",
     "iopub.status.busy": "2022-07-06T11:07:12.974226Z",
     "iopub.status.idle": "2022-07-06T11:07:12.996574Z",
     "shell.execute_reply": "2022-07-06T11:07:12.995293Z"
    },
    "papermill": {
     "duration": 0.043518,
     "end_time": "2022-07-06T11:07:12.998949",
     "exception": false,
     "start_time": "2022-07-06T11:07:12.955431",
     "status": "completed"
    },
    "tags": []
   },
   "outputs": [
    {
     "data": {
      "text/html": [
       "<div>\n",
       "<style scoped>\n",
       "    .dataframe tbody tr th:only-of-type {\n",
       "        vertical-align: middle;\n",
       "    }\n",
       "\n",
       "    .dataframe tbody tr th {\n",
       "        vertical-align: top;\n",
       "    }\n",
       "\n",
       "    .dataframe thead th {\n",
       "        text-align: right;\n",
       "    }\n",
       "</style>\n",
       "<table border=\"1\" class=\"dataframe\">\n",
       "  <thead>\n",
       "    <tr style=\"text-align: right;\">\n",
       "      <th></th>\n",
       "      <th>Airline</th>\n",
       "      <th>Source</th>\n",
       "      <th>Destination</th>\n",
       "      <th>Route</th>\n",
       "      <th>Dep_Time</th>\n",
       "      <th>Arrival_Time</th>\n",
       "      <th>Duration</th>\n",
       "      <th>Total_Stops</th>\n",
       "      <th>Additional_Info</th>\n",
       "      <th>Price</th>\n",
       "      <th>Year</th>\n",
       "      <th>Month</th>\n",
       "      <th>Date</th>\n",
       "      <th>Arrival_hour</th>\n",
       "      <th>Arrival_min</th>\n",
       "    </tr>\n",
       "  </thead>\n",
       "  <tbody>\n",
       "    <tr>\n",
       "      <th>0</th>\n",
       "      <td>IndiGo</td>\n",
       "      <td>Banglore</td>\n",
       "      <td>New Delhi</td>\n",
       "      <td>BLR → DEL</td>\n",
       "      <td>22:20</td>\n",
       "      <td>01:10</td>\n",
       "      <td>2h 50m</td>\n",
       "      <td>non-stop</td>\n",
       "      <td>No info</td>\n",
       "      <td>3897.0</td>\n",
       "      <td>2019</td>\n",
       "      <td>3</td>\n",
       "      <td>24</td>\n",
       "      <td>1</td>\n",
       "      <td>10</td>\n",
       "    </tr>\n",
       "    <tr>\n",
       "      <th>1</th>\n",
       "      <td>Air India</td>\n",
       "      <td>Kolkata</td>\n",
       "      <td>Banglore</td>\n",
       "      <td>CCU → IXR → BBI → BLR</td>\n",
       "      <td>05:50</td>\n",
       "      <td>13:15</td>\n",
       "      <td>7h 25m</td>\n",
       "      <td>2 stops</td>\n",
       "      <td>No info</td>\n",
       "      <td>7662.0</td>\n",
       "      <td>2019</td>\n",
       "      <td>1</td>\n",
       "      <td>5</td>\n",
       "      <td>13</td>\n",
       "      <td>15</td>\n",
       "    </tr>\n",
       "    <tr>\n",
       "      <th>2</th>\n",
       "      <td>Jet Airways</td>\n",
       "      <td>Delhi</td>\n",
       "      <td>Cochin</td>\n",
       "      <td>DEL → LKO → BOM → COK</td>\n",
       "      <td>09:25</td>\n",
       "      <td>04:25</td>\n",
       "      <td>19h</td>\n",
       "      <td>2 stops</td>\n",
       "      <td>No info</td>\n",
       "      <td>13882.0</td>\n",
       "      <td>2019</td>\n",
       "      <td>9</td>\n",
       "      <td>6</td>\n",
       "      <td>4</td>\n",
       "      <td>25</td>\n",
       "    </tr>\n",
       "    <tr>\n",
       "      <th>3</th>\n",
       "      <td>IndiGo</td>\n",
       "      <td>Kolkata</td>\n",
       "      <td>Banglore</td>\n",
       "      <td>CCU → NAG → BLR</td>\n",
       "      <td>18:05</td>\n",
       "      <td>23:30</td>\n",
       "      <td>5h 25m</td>\n",
       "      <td>1 stop</td>\n",
       "      <td>No info</td>\n",
       "      <td>6218.0</td>\n",
       "      <td>2019</td>\n",
       "      <td>12</td>\n",
       "      <td>5</td>\n",
       "      <td>23</td>\n",
       "      <td>30</td>\n",
       "    </tr>\n",
       "    <tr>\n",
       "      <th>4</th>\n",
       "      <td>IndiGo</td>\n",
       "      <td>Banglore</td>\n",
       "      <td>New Delhi</td>\n",
       "      <td>BLR → NAG → DEL</td>\n",
       "      <td>16:50</td>\n",
       "      <td>21:35</td>\n",
       "      <td>4h 45m</td>\n",
       "      <td>1 stop</td>\n",
       "      <td>No info</td>\n",
       "      <td>13302.0</td>\n",
       "      <td>2019</td>\n",
       "      <td>1</td>\n",
       "      <td>3</td>\n",
       "      <td>21</td>\n",
       "      <td>35</td>\n",
       "    </tr>\n",
       "  </tbody>\n",
       "</table>\n",
       "</div>"
      ],
      "text/plain": [
       "       Airline    Source Destination                  Route Dep_Time  \\\n",
       "0       IndiGo  Banglore   New Delhi              BLR → DEL    22:20   \n",
       "1    Air India   Kolkata    Banglore  CCU → IXR → BBI → BLR    05:50   \n",
       "2  Jet Airways     Delhi      Cochin  DEL → LKO → BOM → COK    09:25   \n",
       "3       IndiGo   Kolkata    Banglore        CCU → NAG → BLR    18:05   \n",
       "4       IndiGo  Banglore   New Delhi        BLR → NAG → DEL    16:50   \n",
       "\n",
       "  Arrival_Time Duration Total_Stops Additional_Info    Price  Year  Month  \\\n",
       "0        01:10   2h 50m    non-stop         No info   3897.0  2019      3   \n",
       "1        13:15   7h 25m     2 stops         No info   7662.0  2019      1   \n",
       "2        04:25      19h     2 stops         No info  13882.0  2019      9   \n",
       "3        23:30   5h 25m      1 stop         No info   6218.0  2019     12   \n",
       "4        21:35   4h 45m      1 stop         No info  13302.0  2019      1   \n",
       "\n",
       "   Date  Arrival_hour  Arrival_min  \n",
       "0    24             1           10  \n",
       "1     5            13           15  \n",
       "2     6             4           25  \n",
       "3     5            23           30  \n",
       "4     3            21           35  "
      ]
     },
     "execution_count": 23,
     "metadata": {},
     "output_type": "execute_result"
    }
   ],
   "source": [
    "# Checking the new columns\n",
    "df.head()"
   ]
  },
  {
   "cell_type": "code",
   "execution_count": 24,
   "id": "826bb7b3",
   "metadata": {
    "execution": {
     "iopub.execute_input": "2022-07-06T11:07:13.036799Z",
     "iopub.status.busy": "2022-07-06T11:07:13.035677Z",
     "iopub.status.idle": "2022-07-06T11:07:13.043988Z",
     "shell.execute_reply": "2022-07-06T11:07:13.042989Z"
    },
    "papermill": {
     "duration": 0.029794,
     "end_time": "2022-07-06T11:07:13.046532",
     "exception": false,
     "start_time": "2022-07-06T11:07:13.016738",
     "status": "completed"
    },
    "tags": []
   },
   "outputs": [],
   "source": [
    "# Droping the arrival_tim column as it is no more required.\n",
    "df.drop('Arrival_Time', axis=1,inplace=True)"
   ]
  },
  {
   "cell_type": "code",
   "execution_count": 25,
   "id": "9ab218ee",
   "metadata": {
    "execution": {
     "iopub.execute_input": "2022-07-06T11:07:13.083427Z",
     "iopub.status.busy": "2022-07-06T11:07:13.083006Z",
     "iopub.status.idle": "2022-07-06T11:07:13.143149Z",
     "shell.execute_reply": "2022-07-06T11:07:13.141609Z"
    },
    "papermill": {
     "duration": 0.082223,
     "end_time": "2022-07-06T11:07:13.146439",
     "exception": false,
     "start_time": "2022-07-06T11:07:13.064216",
     "status": "completed"
    },
    "tags": []
   },
   "outputs": [],
   "source": [
    "# Creating 2 new column for departure hour and minutes\n",
    "df['dep_hour'] = df['Dep_Time'].str.split(':').str[0]\n",
    "df['dep_min'] = df['Dep_Time'].str.split(':').str[1]\n",
    "df['dep_hour'] = df['dep_hour'].astype(int)\n",
    "df['dep_min'] = df['dep_min'].astype(int)"
   ]
  },
  {
   "cell_type": "code",
   "execution_count": 26,
   "id": "93f7ed24",
   "metadata": {
    "execution": {
     "iopub.execute_input": "2022-07-06T11:07:13.186394Z",
     "iopub.status.busy": "2022-07-06T11:07:13.186030Z",
     "iopub.status.idle": "2022-07-06T11:07:13.194352Z",
     "shell.execute_reply": "2022-07-06T11:07:13.193465Z"
    },
    "papermill": {
     "duration": 0.030449,
     "end_time": "2022-07-06T11:07:13.196900",
     "exception": false,
     "start_time": "2022-07-06T11:07:13.166451",
     "status": "completed"
    },
    "tags": []
   },
   "outputs": [],
   "source": [
    "# Droping the departure time column.\n",
    "df.drop('Dep_Time', axis=1,inplace=True)"
   ]
  },
  {
   "cell_type": "code",
   "execution_count": 27,
   "id": "53db1be4",
   "metadata": {
    "execution": {
     "iopub.execute_input": "2022-07-06T11:07:13.235425Z",
     "iopub.status.busy": "2022-07-06T11:07:13.234526Z",
     "iopub.status.idle": "2022-07-06T11:07:13.243964Z",
     "shell.execute_reply": "2022-07-06T11:07:13.242969Z"
    },
    "papermill": {
     "duration": 0.032166,
     "end_time": "2022-07-06T11:07:13.246448",
     "exception": false,
     "start_time": "2022-07-06T11:07:13.214282",
     "status": "completed"
    },
    "tags": []
   },
   "outputs": [
    {
     "data": {
      "text/plain": [
       "array(['non-stop', '2 stops', '1 stop', '3 stops', '4 stops'],\n",
       "      dtype=object)"
      ]
     },
     "execution_count": 27,
     "metadata": {},
     "output_type": "execute_result"
    }
   ],
   "source": [
    "# Finding the unique values from Total_stops column\n",
    "df['Total_Stops'].unique()"
   ]
  },
  {
   "cell_type": "code",
   "execution_count": 28,
   "id": "4285a294",
   "metadata": {
    "execution": {
     "iopub.execute_input": "2022-07-06T11:07:13.285536Z",
     "iopub.status.busy": "2022-07-06T11:07:13.284721Z",
     "iopub.status.idle": "2022-07-06T11:07:13.293939Z",
     "shell.execute_reply": "2022-07-06T11:07:13.292886Z"
    },
    "papermill": {
     "duration": 0.032,
     "end_time": "2022-07-06T11:07:13.296636",
     "exception": false,
     "start_time": "2022-07-06T11:07:13.264636",
     "status": "completed"
    },
    "tags": []
   },
   "outputs": [],
   "source": [
    "# Transforming it into ordinal numerical data with respect to number of stops.\n",
    "df['Total_Stops'] = df['Total_Stops'].map({'non-stop':0,'1 stop':1,'2 stops':2,'3 stops':3,'4 stops':4})"
   ]
  },
  {
   "cell_type": "code",
   "execution_count": 29,
   "id": "1abb0dca",
   "metadata": {
    "execution": {
     "iopub.execute_input": "2022-07-06T11:07:13.334104Z",
     "iopub.status.busy": "2022-07-06T11:07:13.333712Z",
     "iopub.status.idle": "2022-07-06T11:07:13.355579Z",
     "shell.execute_reply": "2022-07-06T11:07:13.354190Z"
    },
    "papermill": {
     "duration": 0.043899,
     "end_time": "2022-07-06T11:07:13.358322",
     "exception": false,
     "start_time": "2022-07-06T11:07:13.314423",
     "status": "completed"
    },
    "scrolled": true,
    "tags": []
   },
   "outputs": [
    {
     "data": {
      "text/html": [
       "<div>\n",
       "<style scoped>\n",
       "    .dataframe tbody tr th:only-of-type {\n",
       "        vertical-align: middle;\n",
       "    }\n",
       "\n",
       "    .dataframe tbody tr th {\n",
       "        vertical-align: top;\n",
       "    }\n",
       "\n",
       "    .dataframe thead th {\n",
       "        text-align: right;\n",
       "    }\n",
       "</style>\n",
       "<table border=\"1\" class=\"dataframe\">\n",
       "  <thead>\n",
       "    <tr style=\"text-align: right;\">\n",
       "      <th></th>\n",
       "      <th>Airline</th>\n",
       "      <th>Source</th>\n",
       "      <th>Destination</th>\n",
       "      <th>Route</th>\n",
       "      <th>Duration</th>\n",
       "      <th>Total_Stops</th>\n",
       "      <th>Additional_Info</th>\n",
       "      <th>Price</th>\n",
       "      <th>Year</th>\n",
       "      <th>Month</th>\n",
       "      <th>Date</th>\n",
       "      <th>Arrival_hour</th>\n",
       "      <th>Arrival_min</th>\n",
       "      <th>dep_hour</th>\n",
       "      <th>dep_min</th>\n",
       "    </tr>\n",
       "  </thead>\n",
       "  <tbody>\n",
       "    <tr>\n",
       "      <th>0</th>\n",
       "      <td>IndiGo</td>\n",
       "      <td>Banglore</td>\n",
       "      <td>New Delhi</td>\n",
       "      <td>BLR → DEL</td>\n",
       "      <td>2h 50m</td>\n",
       "      <td>0</td>\n",
       "      <td>No info</td>\n",
       "      <td>3897.0</td>\n",
       "      <td>2019</td>\n",
       "      <td>3</td>\n",
       "      <td>24</td>\n",
       "      <td>1</td>\n",
       "      <td>10</td>\n",
       "      <td>22</td>\n",
       "      <td>20</td>\n",
       "    </tr>\n",
       "    <tr>\n",
       "      <th>1</th>\n",
       "      <td>Air India</td>\n",
       "      <td>Kolkata</td>\n",
       "      <td>Banglore</td>\n",
       "      <td>CCU → IXR → BBI → BLR</td>\n",
       "      <td>7h 25m</td>\n",
       "      <td>2</td>\n",
       "      <td>No info</td>\n",
       "      <td>7662.0</td>\n",
       "      <td>2019</td>\n",
       "      <td>1</td>\n",
       "      <td>5</td>\n",
       "      <td>13</td>\n",
       "      <td>15</td>\n",
       "      <td>5</td>\n",
       "      <td>50</td>\n",
       "    </tr>\n",
       "    <tr>\n",
       "      <th>2</th>\n",
       "      <td>Jet Airways</td>\n",
       "      <td>Delhi</td>\n",
       "      <td>Cochin</td>\n",
       "      <td>DEL → LKO → BOM → COK</td>\n",
       "      <td>19h</td>\n",
       "      <td>2</td>\n",
       "      <td>No info</td>\n",
       "      <td>13882.0</td>\n",
       "      <td>2019</td>\n",
       "      <td>9</td>\n",
       "      <td>6</td>\n",
       "      <td>4</td>\n",
       "      <td>25</td>\n",
       "      <td>9</td>\n",
       "      <td>25</td>\n",
       "    </tr>\n",
       "    <tr>\n",
       "      <th>3</th>\n",
       "      <td>IndiGo</td>\n",
       "      <td>Kolkata</td>\n",
       "      <td>Banglore</td>\n",
       "      <td>CCU → NAG → BLR</td>\n",
       "      <td>5h 25m</td>\n",
       "      <td>1</td>\n",
       "      <td>No info</td>\n",
       "      <td>6218.0</td>\n",
       "      <td>2019</td>\n",
       "      <td>12</td>\n",
       "      <td>5</td>\n",
       "      <td>23</td>\n",
       "      <td>30</td>\n",
       "      <td>18</td>\n",
       "      <td>5</td>\n",
       "    </tr>\n",
       "    <tr>\n",
       "      <th>4</th>\n",
       "      <td>IndiGo</td>\n",
       "      <td>Banglore</td>\n",
       "      <td>New Delhi</td>\n",
       "      <td>BLR → NAG → DEL</td>\n",
       "      <td>4h 45m</td>\n",
       "      <td>1</td>\n",
       "      <td>No info</td>\n",
       "      <td>13302.0</td>\n",
       "      <td>2019</td>\n",
       "      <td>1</td>\n",
       "      <td>3</td>\n",
       "      <td>21</td>\n",
       "      <td>35</td>\n",
       "      <td>16</td>\n",
       "      <td>50</td>\n",
       "    </tr>\n",
       "  </tbody>\n",
       "</table>\n",
       "</div>"
      ],
      "text/plain": [
       "       Airline    Source Destination                  Route Duration  \\\n",
       "0       IndiGo  Banglore   New Delhi              BLR → DEL   2h 50m   \n",
       "1    Air India   Kolkata    Banglore  CCU → IXR → BBI → BLR   7h 25m   \n",
       "2  Jet Airways     Delhi      Cochin  DEL → LKO → BOM → COK      19h   \n",
       "3       IndiGo   Kolkata    Banglore        CCU → NAG → BLR   5h 25m   \n",
       "4       IndiGo  Banglore   New Delhi        BLR → NAG → DEL   4h 45m   \n",
       "\n",
       "   Total_Stops Additional_Info    Price  Year  Month  Date  Arrival_hour  \\\n",
       "0            0         No info   3897.0  2019      3    24             1   \n",
       "1            2         No info   7662.0  2019      1     5            13   \n",
       "2            2         No info  13882.0  2019      9     6             4   \n",
       "3            1         No info   6218.0  2019     12     5            23   \n",
       "4            1         No info  13302.0  2019      1     3            21   \n",
       "\n",
       "   Arrival_min  dep_hour  dep_min  \n",
       "0           10        22       20  \n",
       "1           15         5       50  \n",
       "2           25         9       25  \n",
       "3           30        18        5  \n",
       "4           35        16       50  "
      ]
     },
     "execution_count": 29,
     "metadata": {},
     "output_type": "execute_result"
    }
   ],
   "source": [
    "df.head()"
   ]
  },
  {
   "cell_type": "code",
   "execution_count": 30,
   "id": "d7b786f5",
   "metadata": {
    "execution": {
     "iopub.execute_input": "2022-07-06T11:07:13.397793Z",
     "iopub.status.busy": "2022-07-06T11:07:13.396511Z",
     "iopub.status.idle": "2022-07-06T11:07:13.405710Z",
     "shell.execute_reply": "2022-07-06T11:07:13.404857Z"
    },
    "papermill": {
     "duration": 0.031452,
     "end_time": "2022-07-06T11:07:13.408354",
     "exception": false,
     "start_time": "2022-07-06T11:07:13.376902",
     "status": "completed"
    },
    "tags": []
   },
   "outputs": [],
   "source": [
    "# Creating a function which can convert total duration into number of minutes.\n",
    "def duration_to_min(s):\n",
    "    if 'm' not in s:\n",
    "        s = s.split('h')\n",
    "        duration = int(s[0])*60\n",
    "        return duration\n",
    "    s = s.replace('m',\"\")\n",
    "    s = s.split('h')\n",
    "    duration = (60*int(s[0])+int(s[1]))\n",
    "    return duration"
   ]
  },
  {
   "cell_type": "code",
   "execution_count": 31,
   "id": "090dfb73",
   "metadata": {
    "execution": {
     "iopub.execute_input": "2022-07-06T11:07:13.447255Z",
     "iopub.status.busy": "2022-07-06T11:07:13.446437Z",
     "iopub.status.idle": "2022-07-06T11:07:13.456076Z",
     "shell.execute_reply": "2022-07-06T11:07:13.455006Z"
    },
    "papermill": {
     "duration": 0.031867,
     "end_time": "2022-07-06T11:07:13.458735",
     "exception": false,
     "start_time": "2022-07-06T11:07:13.426868",
     "status": "completed"
    },
    "tags": []
   },
   "outputs": [],
   "source": [
    "# Removing the faulty data\n",
    "error_index = df[df['Duration'] == '5m'].index"
   ]
  },
  {
   "cell_type": "code",
   "execution_count": 32,
   "id": "e95d6774",
   "metadata": {
    "execution": {
     "iopub.execute_input": "2022-07-06T11:07:13.497724Z",
     "iopub.status.busy": "2022-07-06T11:07:13.496911Z",
     "iopub.status.idle": "2022-07-06T11:07:13.508412Z",
     "shell.execute_reply": "2022-07-06T11:07:13.507495Z"
    },
    "papermill": {
     "duration": 0.034352,
     "end_time": "2022-07-06T11:07:13.511264",
     "exception": false,
     "start_time": "2022-07-06T11:07:13.476912",
     "status": "completed"
    },
    "tags": []
   },
   "outputs": [],
   "source": [
    "# droping the rows with faulty data\n",
    "df.drop(error_index, inplace=True)"
   ]
  },
  {
   "cell_type": "code",
   "execution_count": 33,
   "id": "1c4319db",
   "metadata": {
    "execution": {
     "iopub.execute_input": "2022-07-06T11:07:13.551002Z",
     "iopub.status.busy": "2022-07-06T11:07:13.549859Z",
     "iopub.status.idle": "2022-07-06T11:07:13.577820Z",
     "shell.execute_reply": "2022-07-06T11:07:13.576853Z"
    },
    "papermill": {
     "duration": 0.051175,
     "end_time": "2022-07-06T11:07:13.580521",
     "exception": false,
     "start_time": "2022-07-06T11:07:13.529346",
     "status": "completed"
    },
    "tags": []
   },
   "outputs": [],
   "source": [
    "# Appying the funtion created to duration column to crete a new column with duration in minutes\n",
    "df['Duration_min'] = df['Duration'].apply(duration_to_min)"
   ]
  },
  {
   "cell_type": "code",
   "execution_count": 34,
   "id": "3f71a05e",
   "metadata": {
    "execution": {
     "iopub.execute_input": "2022-07-06T11:07:13.618077Z",
     "iopub.status.busy": "2022-07-06T11:07:13.617683Z",
     "iopub.status.idle": "2022-07-06T11:07:13.638513Z",
     "shell.execute_reply": "2022-07-06T11:07:13.637191Z"
    },
    "papermill": {
     "duration": 0.042096,
     "end_time": "2022-07-06T11:07:13.640926",
     "exception": false,
     "start_time": "2022-07-06T11:07:13.598830",
     "status": "completed"
    },
    "scrolled": true,
    "tags": []
   },
   "outputs": [
    {
     "data": {
      "text/html": [
       "<div>\n",
       "<style scoped>\n",
       "    .dataframe tbody tr th:only-of-type {\n",
       "        vertical-align: middle;\n",
       "    }\n",
       "\n",
       "    .dataframe tbody tr th {\n",
       "        vertical-align: top;\n",
       "    }\n",
       "\n",
       "    .dataframe thead th {\n",
       "        text-align: right;\n",
       "    }\n",
       "</style>\n",
       "<table border=\"1\" class=\"dataframe\">\n",
       "  <thead>\n",
       "    <tr style=\"text-align: right;\">\n",
       "      <th></th>\n",
       "      <th>Airline</th>\n",
       "      <th>Source</th>\n",
       "      <th>Destination</th>\n",
       "      <th>Route</th>\n",
       "      <th>Duration</th>\n",
       "      <th>Total_Stops</th>\n",
       "      <th>Additional_Info</th>\n",
       "      <th>Price</th>\n",
       "      <th>Year</th>\n",
       "      <th>Month</th>\n",
       "      <th>Date</th>\n",
       "      <th>Arrival_hour</th>\n",
       "      <th>Arrival_min</th>\n",
       "      <th>dep_hour</th>\n",
       "      <th>dep_min</th>\n",
       "      <th>Duration_min</th>\n",
       "    </tr>\n",
       "  </thead>\n",
       "  <tbody>\n",
       "    <tr>\n",
       "      <th>0</th>\n",
       "      <td>IndiGo</td>\n",
       "      <td>Banglore</td>\n",
       "      <td>New Delhi</td>\n",
       "      <td>BLR → DEL</td>\n",
       "      <td>2h 50m</td>\n",
       "      <td>0</td>\n",
       "      <td>No info</td>\n",
       "      <td>3897.0</td>\n",
       "      <td>2019</td>\n",
       "      <td>3</td>\n",
       "      <td>24</td>\n",
       "      <td>1</td>\n",
       "      <td>10</td>\n",
       "      <td>22</td>\n",
       "      <td>20</td>\n",
       "      <td>170</td>\n",
       "    </tr>\n",
       "    <tr>\n",
       "      <th>1</th>\n",
       "      <td>Air India</td>\n",
       "      <td>Kolkata</td>\n",
       "      <td>Banglore</td>\n",
       "      <td>CCU → IXR → BBI → BLR</td>\n",
       "      <td>7h 25m</td>\n",
       "      <td>2</td>\n",
       "      <td>No info</td>\n",
       "      <td>7662.0</td>\n",
       "      <td>2019</td>\n",
       "      <td>1</td>\n",
       "      <td>5</td>\n",
       "      <td>13</td>\n",
       "      <td>15</td>\n",
       "      <td>5</td>\n",
       "      <td>50</td>\n",
       "      <td>445</td>\n",
       "    </tr>\n",
       "    <tr>\n",
       "      <th>2</th>\n",
       "      <td>Jet Airways</td>\n",
       "      <td>Delhi</td>\n",
       "      <td>Cochin</td>\n",
       "      <td>DEL → LKO → BOM → COK</td>\n",
       "      <td>19h</td>\n",
       "      <td>2</td>\n",
       "      <td>No info</td>\n",
       "      <td>13882.0</td>\n",
       "      <td>2019</td>\n",
       "      <td>9</td>\n",
       "      <td>6</td>\n",
       "      <td>4</td>\n",
       "      <td>25</td>\n",
       "      <td>9</td>\n",
       "      <td>25</td>\n",
       "      <td>1140</td>\n",
       "    </tr>\n",
       "    <tr>\n",
       "      <th>3</th>\n",
       "      <td>IndiGo</td>\n",
       "      <td>Kolkata</td>\n",
       "      <td>Banglore</td>\n",
       "      <td>CCU → NAG → BLR</td>\n",
       "      <td>5h 25m</td>\n",
       "      <td>1</td>\n",
       "      <td>No info</td>\n",
       "      <td>6218.0</td>\n",
       "      <td>2019</td>\n",
       "      <td>12</td>\n",
       "      <td>5</td>\n",
       "      <td>23</td>\n",
       "      <td>30</td>\n",
       "      <td>18</td>\n",
       "      <td>5</td>\n",
       "      <td>325</td>\n",
       "    </tr>\n",
       "    <tr>\n",
       "      <th>4</th>\n",
       "      <td>IndiGo</td>\n",
       "      <td>Banglore</td>\n",
       "      <td>New Delhi</td>\n",
       "      <td>BLR → NAG → DEL</td>\n",
       "      <td>4h 45m</td>\n",
       "      <td>1</td>\n",
       "      <td>No info</td>\n",
       "      <td>13302.0</td>\n",
       "      <td>2019</td>\n",
       "      <td>1</td>\n",
       "      <td>3</td>\n",
       "      <td>21</td>\n",
       "      <td>35</td>\n",
       "      <td>16</td>\n",
       "      <td>50</td>\n",
       "      <td>285</td>\n",
       "    </tr>\n",
       "  </tbody>\n",
       "</table>\n",
       "</div>"
      ],
      "text/plain": [
       "       Airline    Source Destination                  Route Duration  \\\n",
       "0       IndiGo  Banglore   New Delhi              BLR → DEL   2h 50m   \n",
       "1    Air India   Kolkata    Banglore  CCU → IXR → BBI → BLR   7h 25m   \n",
       "2  Jet Airways     Delhi      Cochin  DEL → LKO → BOM → COK      19h   \n",
       "3       IndiGo   Kolkata    Banglore        CCU → NAG → BLR   5h 25m   \n",
       "4       IndiGo  Banglore   New Delhi        BLR → NAG → DEL   4h 45m   \n",
       "\n",
       "   Total_Stops Additional_Info    Price  Year  Month  Date  Arrival_hour  \\\n",
       "0            0         No info   3897.0  2019      3    24             1   \n",
       "1            2         No info   7662.0  2019      1     5            13   \n",
       "2            2         No info  13882.0  2019      9     6             4   \n",
       "3            1         No info   6218.0  2019     12     5            23   \n",
       "4            1         No info  13302.0  2019      1     3            21   \n",
       "\n",
       "   Arrival_min  dep_hour  dep_min  Duration_min  \n",
       "0           10        22       20           170  \n",
       "1           15         5       50           445  \n",
       "2           25         9       25          1140  \n",
       "3           30        18        5           325  \n",
       "4           35        16       50           285  "
      ]
     },
     "execution_count": 34,
     "metadata": {},
     "output_type": "execute_result"
    }
   ],
   "source": [
    "df.head()"
   ]
  },
  {
   "cell_type": "code",
   "execution_count": 35,
   "id": "2c910ff1",
   "metadata": {
    "execution": {
     "iopub.execute_input": "2022-07-06T11:07:13.679514Z",
     "iopub.status.busy": "2022-07-06T11:07:13.678841Z",
     "iopub.status.idle": "2022-07-06T11:07:13.689504Z",
     "shell.execute_reply": "2022-07-06T11:07:13.688593Z"
    },
    "papermill": {
     "duration": 0.03296,
     "end_time": "2022-07-06T11:07:13.692095",
     "exception": false,
     "start_time": "2022-07-06T11:07:13.659135",
     "status": "completed"
    },
    "tags": []
   },
   "outputs": [],
   "source": [
    "# Now droping the old Duration column.\n",
    "df.drop('Duration', axis=1, inplace=True)\n",
    "df.drop('Route',axis=1 , inplace=True)"
   ]
  },
  {
   "cell_type": "code",
   "execution_count": 36,
   "id": "cb7a5bb9",
   "metadata": {
    "execution": {
     "iopub.execute_input": "2022-07-06T11:07:13.731163Z",
     "iopub.status.busy": "2022-07-06T11:07:13.730439Z",
     "iopub.status.idle": "2022-07-06T11:07:13.750553Z",
     "shell.execute_reply": "2022-07-06T11:07:13.748984Z"
    },
    "papermill": {
     "duration": 0.042905,
     "end_time": "2022-07-06T11:07:13.753321",
     "exception": false,
     "start_time": "2022-07-06T11:07:13.710416",
     "status": "completed"
    },
    "tags": []
   },
   "outputs": [
    {
     "name": "stdout",
     "output_type": "stream",
     "text": [
      "<class 'pandas.core.frame.DataFrame'>\n",
      "Int64Index: 13350 entries, 0 to 2670\n",
      "Data columns (total 14 columns):\n",
      " #   Column           Non-Null Count  Dtype  \n",
      "---  ------           --------------  -----  \n",
      " 0   Airline          13350 non-null  object \n",
      " 1   Source           13350 non-null  object \n",
      " 2   Destination      13350 non-null  object \n",
      " 3   Total_Stops      13350 non-null  int64  \n",
      " 4   Additional_Info  13350 non-null  object \n",
      " 5   Price            10680 non-null  float64\n",
      " 6   Year             13350 non-null  int64  \n",
      " 7   Month            13350 non-null  int64  \n",
      " 8   Date             13350 non-null  int64  \n",
      " 9   Arrival_hour     13350 non-null  int64  \n",
      " 10  Arrival_min      13350 non-null  int64  \n",
      " 11  dep_hour         13350 non-null  int64  \n",
      " 12  dep_min          13350 non-null  int64  \n",
      " 13  Duration_min     13350 non-null  int64  \n",
      "dtypes: float64(1), int64(9), object(4)\n",
      "memory usage: 1.5+ MB\n"
     ]
    }
   ],
   "source": [
    "# Checking the data type.\n",
    "df.info()"
   ]
  },
  {
   "cell_type": "code",
   "execution_count": 37,
   "id": "c68b87b5",
   "metadata": {
    "execution": {
     "iopub.execute_input": "2022-07-06T11:07:13.793418Z",
     "iopub.status.busy": "2022-07-06T11:07:13.792216Z",
     "iopub.status.idle": "2022-07-06T11:07:13.801707Z",
     "shell.execute_reply": "2022-07-06T11:07:13.800514Z"
    },
    "papermill": {
     "duration": 0.031676,
     "end_time": "2022-07-06T11:07:13.804050",
     "exception": false,
     "start_time": "2022-07-06T11:07:13.772374",
     "status": "completed"
    },
    "tags": []
   },
   "outputs": [
    {
     "data": {
      "text/plain": [
       "array(['IndiGo', 'Air India', 'Jet Airways', 'SpiceJet',\n",
       "       'Multiple carriers', 'GoAir', 'Vistara', 'Air Asia',\n",
       "       'Vistara Premium economy', 'Jet Airways Business',\n",
       "       'Multiple carriers Premium economy', 'Trujet'], dtype=object)"
      ]
     },
     "execution_count": 37,
     "metadata": {},
     "output_type": "execute_result"
    }
   ],
   "source": [
    "#finding the unique values in the data\n",
    "df['Airline'].unique()"
   ]
  },
  {
   "cell_type": "code",
   "execution_count": 38,
   "id": "9394e21f",
   "metadata": {
    "execution": {
     "iopub.execute_input": "2022-07-06T11:07:13.842752Z",
     "iopub.status.busy": "2022-07-06T11:07:13.842298Z",
     "iopub.status.idle": "2022-07-06T11:07:13.858911Z",
     "shell.execute_reply": "2022-07-06T11:07:13.857770Z"
    },
    "papermill": {
     "duration": 0.03881,
     "end_time": "2022-07-06T11:07:13.861135",
     "exception": false,
     "start_time": "2022-07-06T11:07:13.822325",
     "status": "completed"
    },
    "tags": []
   },
   "outputs": [
    {
     "data": {
      "text/html": [
       "<div>\n",
       "<style scoped>\n",
       "    .dataframe tbody tr th:only-of-type {\n",
       "        vertical-align: middle;\n",
       "    }\n",
       "\n",
       "    .dataframe tbody tr th {\n",
       "        vertical-align: top;\n",
       "    }\n",
       "\n",
       "    .dataframe thead th {\n",
       "        text-align: right;\n",
       "    }\n",
       "</style>\n",
       "<table border=\"1\" class=\"dataframe\">\n",
       "  <thead>\n",
       "    <tr style=\"text-align: right;\">\n",
       "      <th></th>\n",
       "      <th>Airline</th>\n",
       "      <th>Price</th>\n",
       "    </tr>\n",
       "  </thead>\n",
       "  <tbody>\n",
       "    <tr>\n",
       "      <th>0</th>\n",
       "      <td>Air Asia</td>\n",
       "      <td>1783293.0</td>\n",
       "    </tr>\n",
       "    <tr>\n",
       "      <th>1</th>\n",
       "      <td>Air India</td>\n",
       "      <td>16814034.0</td>\n",
       "    </tr>\n",
       "    <tr>\n",
       "      <th>2</th>\n",
       "      <td>GoAir</td>\n",
       "      <td>1137045.0</td>\n",
       "    </tr>\n",
       "    <tr>\n",
       "      <th>3</th>\n",
       "      <td>IndiGo</td>\n",
       "      <td>11648071.0</td>\n",
       "    </tr>\n",
       "    <tr>\n",
       "      <th>4</th>\n",
       "      <td>Jet Airways</td>\n",
       "      <td>44804169.0</td>\n",
       "    </tr>\n",
       "    <tr>\n",
       "      <th>5</th>\n",
       "      <td>Jet Airways Business</td>\n",
       "      <td>350152.0</td>\n",
       "    </tr>\n",
       "    <tr>\n",
       "      <th>6</th>\n",
       "      <td>Multiple carriers</td>\n",
       "      <td>13039603.0</td>\n",
       "    </tr>\n",
       "    <tr>\n",
       "      <th>7</th>\n",
       "      <td>Multiple carriers Premium economy</td>\n",
       "      <td>148445.0</td>\n",
       "    </tr>\n",
       "    <tr>\n",
       "      <th>8</th>\n",
       "      <td>SpiceJet</td>\n",
       "      <td>3548717.0</td>\n",
       "    </tr>\n",
       "    <tr>\n",
       "      <th>9</th>\n",
       "      <td>Trujet</td>\n",
       "      <td>4140.0</td>\n",
       "    </tr>\n",
       "    <tr>\n",
       "      <th>10</th>\n",
       "      <td>Vistara</td>\n",
       "      <td>3734451.0</td>\n",
       "    </tr>\n",
       "    <tr>\n",
       "      <th>11</th>\n",
       "      <td>Vistara Premium economy</td>\n",
       "      <td>26887.0</td>\n",
       "    </tr>\n",
       "  </tbody>\n",
       "</table>\n",
       "</div>"
      ],
      "text/plain": [
       "                              Airline       Price\n",
       "0                            Air Asia   1783293.0\n",
       "1                           Air India  16814034.0\n",
       "2                               GoAir   1137045.0\n",
       "3                              IndiGo  11648071.0\n",
       "4                         Jet Airways  44804169.0\n",
       "5                Jet Airways Business    350152.0\n",
       "6                   Multiple carriers  13039603.0\n",
       "7   Multiple carriers Premium economy    148445.0\n",
       "8                            SpiceJet   3548717.0\n",
       "9                              Trujet      4140.0\n",
       "10                            Vistara   3734451.0\n",
       "11            Vistara Premium economy     26887.0"
      ]
     },
     "execution_count": 38,
     "metadata": {},
     "output_type": "execute_result"
    }
   ],
   "source": [
    "airline_data = df.groupby(['Airline'],as_index=False)['Price'].sum()\n",
    "airline_data"
   ]
  },
  {
   "cell_type": "code",
   "execution_count": 39,
   "id": "23a3557c",
   "metadata": {
    "execution": {
     "iopub.execute_input": "2022-07-06T11:07:13.900594Z",
     "iopub.status.busy": "2022-07-06T11:07:13.899866Z",
     "iopub.status.idle": "2022-07-06T11:07:14.271505Z",
     "shell.execute_reply": "2022-07-06T11:07:14.270256Z"
    },
    "papermill": {
     "duration": 0.394578,
     "end_time": "2022-07-06T11:07:14.274168",
     "exception": false,
     "start_time": "2022-07-06T11:07:13.879590",
     "status": "completed"
    },
    "tags": []
   },
   "outputs": [
    {
     "data": {
      "text/plain": [
       "<AxesSubplot:xlabel='Airline', ylabel='Price'>"
      ]
     },
     "execution_count": 39,
     "metadata": {},
     "output_type": "execute_result"
    },
    {
     "data": {
      "image/png": "[encoded data removed]",
      "text/plain": [
       "<Figure size 1008x504 with 1 Axes>"
      ]
     },
     "metadata": {
      "needs_background": "light"
     },
     "output_type": "display_data"
    }
   ],
   "source": [
    "plt.figure(figsize=(14,7))\n",
    "plt.xticks(rotation = 90)\n",
    "sns.barplot(data=airline_data,x='Airline',y = 'Price')"
   ]
  },
  {
   "cell_type": "markdown",
   "id": "e5f47928",
   "metadata": {
    "papermill": {
     "duration": 0.019152,
     "end_time": "2022-07-06T11:07:14.312643",
     "exception": false,
     "start_time": "2022-07-06T11:07:14.293491",
     "status": "completed"
    },
    "tags": []
   },
   "source": [
    "### Observation\n",
    "Jet Airways has heighest fare among all airlines with heighest std."
   ]
  },
  {
   "cell_type": "code",
   "execution_count": null,
   "id": "dd0898ab",
   "metadata": {
    "papermill": {
     "duration": 0.018394,
     "end_time": "2022-07-06T11:07:14.350229",
     "exception": false,
     "start_time": "2022-07-06T11:07:14.331835",
     "status": "completed"
    },
    "tags": []
   },
   "outputs": [],
   "source": []
  },
  {
   "cell_type": "code",
   "execution_count": 40,
   "id": "24f00a72",
   "metadata": {
    "execution": {
     "iopub.execute_input": "2022-07-06T11:07:14.391049Z",
     "iopub.status.busy": "2022-07-06T11:07:14.389843Z",
     "iopub.status.idle": "2022-07-06T11:07:14.405094Z",
     "shell.execute_reply": "2022-07-06T11:07:14.404070Z"
    },
    "papermill": {
     "duration": 0.037938,
     "end_time": "2022-07-06T11:07:14.407238",
     "exception": false,
     "start_time": "2022-07-06T11:07:14.369300",
     "status": "completed"
    },
    "tags": []
   },
   "outputs": [
    {
     "data": {
      "text/html": [
       "<div>\n",
       "<style scoped>\n",
       "    .dataframe tbody tr th:only-of-type {\n",
       "        vertical-align: middle;\n",
       "    }\n",
       "\n",
       "    .dataframe tbody tr th {\n",
       "        vertical-align: top;\n",
       "    }\n",
       "\n",
       "    .dataframe thead th {\n",
       "        text-align: right;\n",
       "    }\n",
       "</style>\n",
       "<table border=\"1\" class=\"dataframe\">\n",
       "  <thead>\n",
       "    <tr style=\"text-align: right;\">\n",
       "      <th></th>\n",
       "      <th>Total_Stops</th>\n",
       "      <th>Price</th>\n",
       "    </tr>\n",
       "  </thead>\n",
       "  <tbody>\n",
       "    <tr>\n",
       "      <th>0</th>\n",
       "      <td>0</td>\n",
       "      <td>5024.900315</td>\n",
       "    </tr>\n",
       "    <tr>\n",
       "      <th>1</th>\n",
       "      <td>1</td>\n",
       "      <td>10594.123556</td>\n",
       "    </tr>\n",
       "    <tr>\n",
       "      <th>2</th>\n",
       "      <td>2</td>\n",
       "      <td>12712.390646</td>\n",
       "    </tr>\n",
       "    <tr>\n",
       "      <th>3</th>\n",
       "      <td>3</td>\n",
       "      <td>13112.000000</td>\n",
       "    </tr>\n",
       "    <tr>\n",
       "      <th>4</th>\n",
       "      <td>4</td>\n",
       "      <td>17686.000000</td>\n",
       "    </tr>\n",
       "  </tbody>\n",
       "</table>\n",
       "</div>"
      ],
      "text/plain": [
       "   Total_Stops         Price\n",
       "0            0   5024.900315\n",
       "1            1  10594.123556\n",
       "2            2  12712.390646\n",
       "3            3  13112.000000\n",
       "4            4  17686.000000"
      ]
     },
     "execution_count": 40,
     "metadata": {},
     "output_type": "execute_result"
    }
   ],
   "source": [
    "stops_data = df.groupby(['Total_Stops'],as_index= False)['Price'].mean()\n",
    "stops_data"
   ]
  },
  {
   "cell_type": "code",
   "execution_count": 41,
   "id": "27d03402",
   "metadata": {
    "execution": {
     "iopub.execute_input": "2022-07-06T11:07:14.448396Z",
     "iopub.status.busy": "2022-07-06T11:07:14.447203Z",
     "iopub.status.idle": "2022-07-06T11:07:14.624357Z",
     "shell.execute_reply": "2022-07-06T11:07:14.623058Z"
    },
    "papermill": {
     "duration": 0.200278,
     "end_time": "2022-07-06T11:07:14.627089",
     "exception": false,
     "start_time": "2022-07-06T11:07:14.426811",
     "status": "completed"
    },
    "tags": []
   },
   "outputs": [
    {
     "data": {
      "text/plain": [
       "<AxesSubplot:xlabel='Total_Stops', ylabel='Price'>"
      ]
     },
     "execution_count": 41,
     "metadata": {},
     "output_type": "execute_result"
    },
    {
     "data": {
      "image/png": "[encoded data removed]",
      "text/plain": [
       "<Figure size 1008x504 with 1 Axes>"
      ]
     },
     "metadata": {
      "needs_background": "light"
     },
     "output_type": "display_data"
    }
   ],
   "source": [
    "plt.figure(figsize=(14,7))\n",
    "sns.barplot(data=stops_data,x='Total_Stops',y='Price')"
   ]
  },
  {
   "cell_type": "markdown",
   "id": "ea240ce8",
   "metadata": {
    "papermill": {
     "duration": 0.019307,
     "end_time": "2022-07-06T11:07:14.666219",
     "exception": false,
     "start_time": "2022-07-06T11:07:14.646912",
     "status": "completed"
    },
    "tags": []
   },
   "source": [
    "### Observation\n",
    "1. As in increase the number of stops average price of ticket increases .\n",
    "2. non stop flight have least price ."
   ]
  },
  {
   "cell_type": "code",
   "execution_count": null,
   "id": "216229ca",
   "metadata": {
    "papermill": {
     "duration": 0.019324,
     "end_time": "2022-07-06T11:07:14.704932",
     "exception": false,
     "start_time": "2022-07-06T11:07:14.685608",
     "status": "completed"
    },
    "tags": []
   },
   "outputs": [],
   "source": []
  },
  {
   "cell_type": "code",
   "execution_count": 42,
   "id": "6f2ff0ae",
   "metadata": {
    "execution": {
     "iopub.execute_input": "2022-07-06T11:07:14.746641Z",
     "iopub.status.busy": "2022-07-06T11:07:14.745439Z",
     "iopub.status.idle": "2022-07-06T11:07:14.762301Z",
     "shell.execute_reply": "2022-07-06T11:07:14.760835Z"
    },
    "papermill": {
     "duration": 0.0402,
     "end_time": "2022-07-06T11:07:14.764709",
     "exception": false,
     "start_time": "2022-07-06T11:07:14.724509",
     "status": "completed"
    },
    "tags": []
   },
   "outputs": [
    {
     "data": {
      "text/html": [
       "<div>\n",
       "<style scoped>\n",
       "    .dataframe tbody tr th:only-of-type {\n",
       "        vertical-align: middle;\n",
       "    }\n",
       "\n",
       "    .dataframe tbody tr th {\n",
       "        vertical-align: top;\n",
       "    }\n",
       "\n",
       "    .dataframe thead th {\n",
       "        text-align: right;\n",
       "    }\n",
       "</style>\n",
       "<table border=\"1\" class=\"dataframe\">\n",
       "  <thead>\n",
       "    <tr style=\"text-align: right;\">\n",
       "      <th></th>\n",
       "      <th>Destination</th>\n",
       "      <th>Price</th>\n",
       "    </tr>\n",
       "  </thead>\n",
       "  <tbody>\n",
       "    <tr>\n",
       "      <th>0</th>\n",
       "      <td>Banglore</td>\n",
       "      <td>26293736.0</td>\n",
       "    </tr>\n",
       "    <tr>\n",
       "      <th>1</th>\n",
       "      <td>Cochin</td>\n",
       "      <td>47796663.0</td>\n",
       "    </tr>\n",
       "    <tr>\n",
       "      <th>2</th>\n",
       "      <td>Delhi</td>\n",
       "      <td>6507057.0</td>\n",
       "    </tr>\n",
       "    <tr>\n",
       "      <th>3</th>\n",
       "      <td>Hyderabad</td>\n",
       "      <td>3509290.0</td>\n",
       "    </tr>\n",
       "    <tr>\n",
       "      <th>4</th>\n",
       "      <td>Kolkata</td>\n",
       "      <td>1824949.0</td>\n",
       "    </tr>\n",
       "    <tr>\n",
       "      <th>5</th>\n",
       "      <td>New Delhi</td>\n",
       "      <td>11107312.0</td>\n",
       "    </tr>\n",
       "  </tbody>\n",
       "</table>\n",
       "</div>"
      ],
      "text/plain": [
       "  Destination       Price\n",
       "0    Banglore  26293736.0\n",
       "1      Cochin  47796663.0\n",
       "2       Delhi   6507057.0\n",
       "3   Hyderabad   3509290.0\n",
       "4     Kolkata   1824949.0\n",
       "5   New Delhi  11107312.0"
      ]
     },
     "execution_count": 42,
     "metadata": {},
     "output_type": "execute_result"
    }
   ],
   "source": [
    "Destination_data = df.groupby(['Destination'], as_index=False)['Price'].sum()\n",
    "Destination_data"
   ]
  },
  {
   "cell_type": "code",
   "execution_count": 43,
   "id": "c44b14eb",
   "metadata": {
    "execution": {
     "iopub.execute_input": "2022-07-06T11:07:14.806215Z",
     "iopub.status.busy": "2022-07-06T11:07:14.805818Z",
     "iopub.status.idle": "2022-07-06T11:07:15.038502Z",
     "shell.execute_reply": "2022-07-06T11:07:15.037211Z"
    },
    "papermill": {
     "duration": 0.256338,
     "end_time": "2022-07-06T11:07:15.040968",
     "exception": false,
     "start_time": "2022-07-06T11:07:14.784630",
     "status": "completed"
    },
    "tags": []
   },
   "outputs": [
    {
     "data": {
      "text/plain": [
       "<AxesSubplot:xlabel='Destination', ylabel='Price'>"
      ]
     },
     "execution_count": 43,
     "metadata": {},
     "output_type": "execute_result"
    },
    {
     "data": {
      "image/png": "[encoded data removed]",
      "text/plain": [
       "<Figure size 1008x504 with 1 Axes>"
      ]
     },
     "metadata": {
      "needs_background": "light"
     },
     "output_type": "display_data"
    }
   ],
   "source": [
    "plt.figure(figsize=(14,7))\n",
    "sns.barplot(data=Destination_data,x='Destination',y='Price')"
   ]
  },
  {
   "cell_type": "markdown",
   "id": "73f98568",
   "metadata": {
    "papermill": {
     "duration": 0.022079,
     "end_time": "2022-07-06T11:07:15.083514",
     "exception": false,
     "start_time": "2022-07-06T11:07:15.061435",
     "status": "completed"
    },
    "tags": []
   },
   "source": [
    "## Observation\n",
    "1. Cochin is the most costy destination from all.\n",
    "2. Kolkata has least price from all destination."
   ]
  },
  {
   "cell_type": "code",
   "execution_count": null,
   "id": "45f6dd38",
   "metadata": {
    "papermill": {
     "duration": 0.020324,
     "end_time": "2022-07-06T11:07:15.124672",
     "exception": false,
     "start_time": "2022-07-06T11:07:15.104348",
     "status": "completed"
    },
    "tags": []
   },
   "outputs": [],
   "source": []
  },
  {
   "cell_type": "code",
   "execution_count": 44,
   "id": "16649df6",
   "metadata": {
    "execution": {
     "iopub.execute_input": "2022-07-06T11:07:15.167749Z",
     "iopub.status.busy": "2022-07-06T11:07:15.167305Z",
     "iopub.status.idle": "2022-07-06T11:07:15.209909Z",
     "shell.execute_reply": "2022-07-06T11:07:15.208628Z"
    },
    "papermill": {
     "duration": 0.066974,
     "end_time": "2022-07-06T11:07:15.212394",
     "exception": false,
     "start_time": "2022-07-06T11:07:15.145420",
     "status": "completed"
    },
    "tags": []
   },
   "outputs": [
    {
     "data": {
      "text/html": [
       "<div>\n",
       "<style scoped>\n",
       "    .dataframe tbody tr th:only-of-type {\n",
       "        vertical-align: middle;\n",
       "    }\n",
       "\n",
       "    .dataframe tbody tr th {\n",
       "        vertical-align: top;\n",
       "    }\n",
       "\n",
       "    .dataframe thead th {\n",
       "        text-align: right;\n",
       "    }\n",
       "</style>\n",
       "<table border=\"1\" class=\"dataframe\">\n",
       "  <thead>\n",
       "    <tr style=\"text-align: right;\">\n",
       "      <th></th>\n",
       "      <th>Total_Stops</th>\n",
       "      <th>Price</th>\n",
       "      <th>Year</th>\n",
       "      <th>Month</th>\n",
       "      <th>Date</th>\n",
       "      <th>Arrival_hour</th>\n",
       "      <th>Arrival_min</th>\n",
       "      <th>dep_hour</th>\n",
       "      <th>dep_min</th>\n",
       "      <th>Duration_min</th>\n",
       "      <th>...</th>\n",
       "      <th>Destination_New Delhi</th>\n",
       "      <th>Additional_Info_1 Short layover</th>\n",
       "      <th>Additional_Info_2 Long layover</th>\n",
       "      <th>Additional_Info_Business class</th>\n",
       "      <th>Additional_Info_Change airports</th>\n",
       "      <th>Additional_Info_In-flight meal not included</th>\n",
       "      <th>Additional_Info_No Info</th>\n",
       "      <th>Additional_Info_No check-in baggage included</th>\n",
       "      <th>Additional_Info_No info</th>\n",
       "      <th>Additional_Info_Red-eye flight</th>\n",
       "    </tr>\n",
       "  </thead>\n",
       "  <tbody>\n",
       "    <tr>\n",
       "      <th>0</th>\n",
       "      <td>0</td>\n",
       "      <td>3897.0</td>\n",
       "      <td>2019</td>\n",
       "      <td>3</td>\n",
       "      <td>24</td>\n",
       "      <td>1</td>\n",
       "      <td>10</td>\n",
       "      <td>22</td>\n",
       "      <td>20</td>\n",
       "      <td>170</td>\n",
       "      <td>...</td>\n",
       "      <td>1</td>\n",
       "      <td>0</td>\n",
       "      <td>0</td>\n",
       "      <td>0</td>\n",
       "      <td>0</td>\n",
       "      <td>0</td>\n",
       "      <td>0</td>\n",
       "      <td>0</td>\n",
       "      <td>1</td>\n",
       "      <td>0</td>\n",
       "    </tr>\n",
       "    <tr>\n",
       "      <th>1</th>\n",
       "      <td>2</td>\n",
       "      <td>7662.0</td>\n",
       "      <td>2019</td>\n",
       "      <td>1</td>\n",
       "      <td>5</td>\n",
       "      <td>13</td>\n",
       "      <td>15</td>\n",
       "      <td>5</td>\n",
       "      <td>50</td>\n",
       "      <td>445</td>\n",
       "      <td>...</td>\n",
       "      <td>0</td>\n",
       "      <td>0</td>\n",
       "      <td>0</td>\n",
       "      <td>0</td>\n",
       "      <td>0</td>\n",
       "      <td>0</td>\n",
       "      <td>0</td>\n",
       "      <td>0</td>\n",
       "      <td>1</td>\n",
       "      <td>0</td>\n",
       "    </tr>\n",
       "    <tr>\n",
       "      <th>2</th>\n",
       "      <td>2</td>\n",
       "      <td>13882.0</td>\n",
       "      <td>2019</td>\n",
       "      <td>9</td>\n",
       "      <td>6</td>\n",
       "      <td>4</td>\n",
       "      <td>25</td>\n",
       "      <td>9</td>\n",
       "      <td>25</td>\n",
       "      <td>1140</td>\n",
       "      <td>...</td>\n",
       "      <td>0</td>\n",
       "      <td>0</td>\n",
       "      <td>0</td>\n",
       "      <td>0</td>\n",
       "      <td>0</td>\n",
       "      <td>0</td>\n",
       "      <td>0</td>\n",
       "      <td>0</td>\n",
       "      <td>1</td>\n",
       "      <td>0</td>\n",
       "    </tr>\n",
       "    <tr>\n",
       "      <th>3</th>\n",
       "      <td>1</td>\n",
       "      <td>6218.0</td>\n",
       "      <td>2019</td>\n",
       "      <td>12</td>\n",
       "      <td>5</td>\n",
       "      <td>23</td>\n",
       "      <td>30</td>\n",
       "      <td>18</td>\n",
       "      <td>5</td>\n",
       "      <td>325</td>\n",
       "      <td>...</td>\n",
       "      <td>0</td>\n",
       "      <td>0</td>\n",
       "      <td>0</td>\n",
       "      <td>0</td>\n",
       "      <td>0</td>\n",
       "      <td>0</td>\n",
       "      <td>0</td>\n",
       "      <td>0</td>\n",
       "      <td>1</td>\n",
       "      <td>0</td>\n",
       "    </tr>\n",
       "    <tr>\n",
       "      <th>4</th>\n",
       "      <td>1</td>\n",
       "      <td>13302.0</td>\n",
       "      <td>2019</td>\n",
       "      <td>1</td>\n",
       "      <td>3</td>\n",
       "      <td>21</td>\n",
       "      <td>35</td>\n",
       "      <td>16</td>\n",
       "      <td>50</td>\n",
       "      <td>285</td>\n",
       "      <td>...</td>\n",
       "      <td>1</td>\n",
       "      <td>0</td>\n",
       "      <td>0</td>\n",
       "      <td>0</td>\n",
       "      <td>0</td>\n",
       "      <td>0</td>\n",
       "      <td>0</td>\n",
       "      <td>0</td>\n",
       "      <td>1</td>\n",
       "      <td>0</td>\n",
       "    </tr>\n",
       "    <tr>\n",
       "      <th>...</th>\n",
       "      <td>...</td>\n",
       "      <td>...</td>\n",
       "      <td>...</td>\n",
       "      <td>...</td>\n",
       "      <td>...</td>\n",
       "      <td>...</td>\n",
       "      <td>...</td>\n",
       "      <td>...</td>\n",
       "      <td>...</td>\n",
       "      <td>...</td>\n",
       "      <td>...</td>\n",
       "      <td>...</td>\n",
       "      <td>...</td>\n",
       "      <td>...</td>\n",
       "      <td>...</td>\n",
       "      <td>...</td>\n",
       "      <td>...</td>\n",
       "      <td>...</td>\n",
       "      <td>...</td>\n",
       "      <td>...</td>\n",
       "      <td>...</td>\n",
       "    </tr>\n",
       "    <tr>\n",
       "      <th>2666</th>\n",
       "      <td>1</td>\n",
       "      <td>NaN</td>\n",
       "      <td>2019</td>\n",
       "      <td>6</td>\n",
       "      <td>6</td>\n",
       "      <td>20</td>\n",
       "      <td>25</td>\n",
       "      <td>20</td>\n",
       "      <td>30</td>\n",
       "      <td>1435</td>\n",
       "      <td>...</td>\n",
       "      <td>0</td>\n",
       "      <td>0</td>\n",
       "      <td>0</td>\n",
       "      <td>0</td>\n",
       "      <td>0</td>\n",
       "      <td>0</td>\n",
       "      <td>0</td>\n",
       "      <td>0</td>\n",
       "      <td>1</td>\n",
       "      <td>0</td>\n",
       "    </tr>\n",
       "    <tr>\n",
       "      <th>2667</th>\n",
       "      <td>0</td>\n",
       "      <td>NaN</td>\n",
       "      <td>2019</td>\n",
       "      <td>3</td>\n",
       "      <td>27</td>\n",
       "      <td>16</td>\n",
       "      <td>55</td>\n",
       "      <td>14</td>\n",
       "      <td>20</td>\n",
       "      <td>155</td>\n",
       "      <td>...</td>\n",
       "      <td>0</td>\n",
       "      <td>0</td>\n",
       "      <td>0</td>\n",
       "      <td>0</td>\n",
       "      <td>0</td>\n",
       "      <td>0</td>\n",
       "      <td>0</td>\n",
       "      <td>0</td>\n",
       "      <td>1</td>\n",
       "      <td>0</td>\n",
       "    </tr>\n",
       "    <tr>\n",
       "      <th>2668</th>\n",
       "      <td>1</td>\n",
       "      <td>NaN</td>\n",
       "      <td>2019</td>\n",
       "      <td>6</td>\n",
       "      <td>3</td>\n",
       "      <td>4</td>\n",
       "      <td>25</td>\n",
       "      <td>21</td>\n",
       "      <td>50</td>\n",
       "      <td>395</td>\n",
       "      <td>...</td>\n",
       "      <td>0</td>\n",
       "      <td>0</td>\n",
       "      <td>0</td>\n",
       "      <td>0</td>\n",
       "      <td>0</td>\n",
       "      <td>0</td>\n",
       "      <td>0</td>\n",
       "      <td>0</td>\n",
       "      <td>1</td>\n",
       "      <td>0</td>\n",
       "    </tr>\n",
       "    <tr>\n",
       "      <th>2669</th>\n",
       "      <td>1</td>\n",
       "      <td>NaN</td>\n",
       "      <td>2019</td>\n",
       "      <td>6</td>\n",
       "      <td>3</td>\n",
       "      <td>19</td>\n",
       "      <td>15</td>\n",
       "      <td>4</td>\n",
       "      <td>0</td>\n",
       "      <td>915</td>\n",
       "      <td>...</td>\n",
       "      <td>0</td>\n",
       "      <td>0</td>\n",
       "      <td>0</td>\n",
       "      <td>0</td>\n",
       "      <td>0</td>\n",
       "      <td>0</td>\n",
       "      <td>0</td>\n",
       "      <td>0</td>\n",
       "      <td>1</td>\n",
       "      <td>0</td>\n",
       "    </tr>\n",
       "    <tr>\n",
       "      <th>2670</th>\n",
       "      <td>1</td>\n",
       "      <td>NaN</td>\n",
       "      <td>2019</td>\n",
       "      <td>6</td>\n",
       "      <td>15</td>\n",
       "      <td>19</td>\n",
       "      <td>15</td>\n",
       "      <td>4</td>\n",
       "      <td>55</td>\n",
       "      <td>860</td>\n",
       "      <td>...</td>\n",
       "      <td>0</td>\n",
       "      <td>0</td>\n",
       "      <td>0</td>\n",
       "      <td>0</td>\n",
       "      <td>0</td>\n",
       "      <td>0</td>\n",
       "      <td>0</td>\n",
       "      <td>0</td>\n",
       "      <td>1</td>\n",
       "      <td>0</td>\n",
       "    </tr>\n",
       "  </tbody>\n",
       "</table>\n",
       "<p>13350 rows × 39 columns</p>\n",
       "</div>"
      ],
      "text/plain": [
       "      Total_Stops    Price  Year  Month  Date  Arrival_hour  Arrival_min  \\\n",
       "0               0   3897.0  2019      3    24             1           10   \n",
       "1               2   7662.0  2019      1     5            13           15   \n",
       "2               2  13882.0  2019      9     6             4           25   \n",
       "3               1   6218.0  2019     12     5            23           30   \n",
       "4               1  13302.0  2019      1     3            21           35   \n",
       "...           ...      ...   ...    ...   ...           ...          ...   \n",
       "2666            1      NaN  2019      6     6            20           25   \n",
       "2667            0      NaN  2019      3    27            16           55   \n",
       "2668            1      NaN  2019      6     3             4           25   \n",
       "2669            1      NaN  2019      6     3            19           15   \n",
       "2670            1      NaN  2019      6    15            19           15   \n",
       "\n",
       "      dep_hour  dep_min  Duration_min  ...  Destination_New Delhi  \\\n",
       "0           22       20           170  ...                      1   \n",
       "1            5       50           445  ...                      0   \n",
       "2            9       25          1140  ...                      0   \n",
       "3           18        5           325  ...                      0   \n",
       "4           16       50           285  ...                      1   \n",
       "...        ...      ...           ...  ...                    ...   \n",
       "2666        20       30          1435  ...                      0   \n",
       "2667        14       20           155  ...                      0   \n",
       "2668        21       50           395  ...                      0   \n",
       "2669         4        0           915  ...                      0   \n",
       "2670         4       55           860  ...                      0   \n",
       "\n",
       "      Additional_Info_1 Short layover  Additional_Info_2 Long layover  \\\n",
       "0                                   0                               0   \n",
       "1                                   0                               0   \n",
       "2                                   0                               0   \n",
       "3                                   0                               0   \n",
       "4                                   0                               0   \n",
       "...                               ...                             ...   \n",
       "2666                                0                               0   \n",
       "2667                                0                               0   \n",
       "2668                                0                               0   \n",
       "2669                                0                               0   \n",
       "2670                                0                               0   \n",
       "\n",
       "      Additional_Info_Business class  Additional_Info_Change airports  \\\n",
       "0                                  0                                0   \n",
       "1                                  0                                0   \n",
       "2                                  0                                0   \n",
       "3                                  0                                0   \n",
       "4                                  0                                0   \n",
       "...                              ...                              ...   \n",
       "2666                               0                                0   \n",
       "2667                               0                                0   \n",
       "2668                               0                                0   \n",
       "2669                               0                                0   \n",
       "2670                               0                                0   \n",
       "\n",
       "      Additional_Info_In-flight meal not included  Additional_Info_No Info  \\\n",
       "0                                               0                        0   \n",
       "1                                               0                        0   \n",
       "2                                               0                        0   \n",
       "3                                               0                        0   \n",
       "4                                               0                        0   \n",
       "...                                           ...                      ...   \n",
       "2666                                            0                        0   \n",
       "2667                                            0                        0   \n",
       "2668                                            0                        0   \n",
       "2669                                            0                        0   \n",
       "2670                                            0                        0   \n",
       "\n",
       "      Additional_Info_No check-in baggage included  Additional_Info_No info  \\\n",
       "0                                                0                        1   \n",
       "1                                                0                        1   \n",
       "2                                                0                        1   \n",
       "3                                                0                        1   \n",
       "4                                                0                        1   \n",
       "...                                            ...                      ...   \n",
       "2666                                             0                        1   \n",
       "2667                                             0                        1   \n",
       "2668                                             0                        1   \n",
       "2669                                             0                        1   \n",
       "2670                                             0                        1   \n",
       "\n",
       "      Additional_Info_Red-eye flight  \n",
       "0                                  0  \n",
       "1                                  0  \n",
       "2                                  0  \n",
       "3                                  0  \n",
       "4                                  0  \n",
       "...                              ...  \n",
       "2666                               0  \n",
       "2667                               0  \n",
       "2668                               0  \n",
       "2669                               0  \n",
       "2670                               0  \n",
       "\n",
       "[13350 rows x 39 columns]"
      ]
     },
     "execution_count": 44,
     "metadata": {},
     "output_type": "execute_result"
    }
   ],
   "source": [
    "# Creating all other object data into dummies.\n",
    "pd.get_dummies(df,columns=['Airline','Source','Destination','Additional_Info'], drop_first=True)"
   ]
  },
  {
   "cell_type": "code",
   "execution_count": null,
   "id": "e3effe6f",
   "metadata": {
    "papermill": {
     "duration": 0.020557,
     "end_time": "2022-07-06T11:07:15.253800",
     "exception": false,
     "start_time": "2022-07-06T11:07:15.233243",
     "status": "completed"
    },
    "tags": []
   },
   "outputs": [],
   "source": []
  },
  {
   "cell_type": "code",
   "execution_count": null,
   "id": "bd7fe418",
   "metadata": {
    "papermill": {
     "duration": 0.020954,
     "end_time": "2022-07-06T11:07:15.296103",
     "exception": false,
     "start_time": "2022-07-06T11:07:15.275149",
     "status": "completed"
    },
    "tags": []
   },
   "outputs": [],
   "source": []
  }
 ],
 "metadata": {
  "kernelspec": {
   "display_name": "Python 3",
   "language": "python",
   "name": "python3"
  },
  "language_info": {
   "codemirror_mode": {
    "name": "ipython",
    "version": 3
   },
   "file_extension": ".py",
   "mimetype": "text/x-python",
   "name": "python",
   "nbconvert_exporter": "python",
   "pygments_lexer": "ipython3",
   "version": "3.7.12"
  },
  "papermill": {
   "default_parameters": {},
   "duration": 34.269792,
   "end_time": "2022-07-06T11:07:16.141742",
   "environment_variables": {},
   "exception": null,
   "input_path": "__notebook__.ipynb",
   "output_path": "__notebook__.ipynb",
   "parameters": {},
   "start_time": "2022-07-06T11:06:41.871950",
   "version": "2.3.4"
  }
 },
 "nbformat": 4,
 "nbformat_minor": 5
}
